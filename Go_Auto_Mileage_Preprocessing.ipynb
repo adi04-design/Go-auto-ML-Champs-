{
  "nbformat": 4,
  "nbformat_minor": 0,
  "metadata": {
    "colab": {
      "provenance": []
    },
    "kernelspec": {
      "name": "python3",
      "display_name": "Python 3"
    },
    "language_info": {
      "name": "python"
    }
  },
  "cells": [
    {
      "cell_type": "code",
      "execution_count": null,
      "metadata": {
        "id": "bF6ohAr23UC8"
      },
      "outputs": [],
      "source": [
        "import pandas as pd\n",
        "import numpy as np"
      ]
    },
    {
      "cell_type": "code",
      "source": [
        "df = pd.read_csv(\"Go_Auto_Dataset.csv\")"
      ],
      "metadata": {
        "id": "7UH992qS3kGY"
      },
      "execution_count": null,
      "outputs": []
    },
    {
      "cell_type": "code",
      "source": [
        "df.head()"
      ],
      "metadata": {
        "colab": {
          "base_uri": "https://localhost:8080/",
          "height": 508
        },
        "id": "AJcXIms03ol5",
        "outputId": "c82b5165-96f6-49c8-e30a-70d1a0fac53f"
      },
      "execution_count": null,
      "outputs": [
        {
          "output_type": "execute_result",
          "data": {
            "text/plain": [
              "                             listing_id                  listing_heading  \\\n",
              "0  f5b663d2-4896-11ef-a15b-8b4423f1ff08     1987 IROC Z  350 Auto T-Tops   \n",
              "1  a9f565e6-4712-11ef-a23f-79dc25c5e601                              NaN   \n",
              "2  03d18c58-253a-11ef-8f33-8905b4a2f000  1989 Cadillac DeVille Sedan FWD   \n",
              "3  2d12630b-460e-11ee-89c4-e5b3161d4741  1989 Cadillac DeVille Sedan FWD   \n",
              "4  53a8e550-47cd-11ef-8587-f926ecb61035  1989 Camaro IROC 350 Auto T-Top   \n",
              "\n",
              "  listing_type                                        listing_url  \\\n",
              "0       Active  https://www.kijiji.ca/v-cars-trucks/edmonton/1...   \n",
              "1         Sold  https://www.redlinemotors.ca/vehicle-details/1...   \n",
              "2       Active  https://www.sweetheartmotor.com/cars/used/1989...   \n",
              "3       Active  https://www.sweetheartmotor.com/cars/used/1989...   \n",
              "4       Active  https://www.kijiji.ca/v-cars-trucks/edmonton/1...   \n",
              "\n",
              "  listing_first_date  days_on_market  dealer_id  \\\n",
              "0     7/22/2024 0:00               9   11152931   \n",
              "1     7/20/2024 0:00               4   11131329   \n",
              "2      6/7/2024 0:00              54   11161704   \n",
              "3     8/28/2023 0:00             338   11128265   \n",
              "4     7/21/2024 0:00              10   11152931   \n",
              "\n",
              "                               dealer_name             dealer_street  \\\n",
              "0  David T's Camaro & Firebird Auto Center           10611 201 St NW   \n",
              "1                         Redlinemotors.Ca  14421 Mark Messier Trail   \n",
              "2  Gateway Auto & Rv Sales & Financing Ltd      5404 Gateway Blvd NW   \n",
              "3                            Credit Angels      5404 Gateway Blvd NW   \n",
              "4  David T's Camaro & Firebird Auto Center           10611 201 St NW   \n",
              "\n",
              "  dealer_city  ... wheelbase_from_vin drivetrain_from_vin engine_from_vin  \\\n",
              "0    Edmonton  ...                0.0                 RWD    5.7L V8 TBI    \n",
              "1    Edmonton  ...                0.0                 RWD        5.2L V8    \n",
              "2    Edmonton  ...                0.0                 FWD     4.5L V8 DI    \n",
              "3    Edmonton  ...                0.0                 FWD     4.5L V8 DI    \n",
              "4    Edmonton  ...                0.0                 RWD    5.7L V8 TBI    \n",
              "\n",
              "   transmission_from_vin fuel_type_from_vin number_price_changes  \\\n",
              "0                      A                Gas                  0.0   \n",
              "1                      A                Gas                  0.0   \n",
              "2                      A                Gas                  0.0   \n",
              "3                      A                Gas                  4.0   \n",
              "4                      A                Gas                  0.0   \n",
              "\n",
              "                             price_history_delimited  distance_to_dealer  \\\n",
              "0                            2024-07-22,11500,230860                9.84   \n",
              "1                              2024-07-20,8700,48905                8.30   \n",
              "2                             2024-06-07,6000,174640                5.71   \n",
              "3  2023-08-28,4500,174640:2023-09-13,5900,174640:...                5.71   \n",
              "4                             2024-07-21,8500,288000                9.84   \n",
              "\n",
              "  location_score  listing_dropoff_date  \n",
              "0            5.0                   NaN  \n",
              "1            5.0        7/24/2024 0:00  \n",
              "2            4.0                   NaN  \n",
              "3            5.0                   NaN  \n",
              "4            5.0                   NaN  \n",
              "\n",
              "[5 rows x 46 columns]"
            ],
            "text/html": [
              "\n",
              "  <div id=\"df-fdbc93b9-0308-4153-a37b-71ff2094ebcb\" class=\"colab-df-container\">\n",
              "    <div>\n",
              "<style scoped>\n",
              "    .dataframe tbody tr th:only-of-type {\n",
              "        vertical-align: middle;\n",
              "    }\n",
              "\n",
              "    .dataframe tbody tr th {\n",
              "        vertical-align: top;\n",
              "    }\n",
              "\n",
              "    .dataframe thead th {\n",
              "        text-align: right;\n",
              "    }\n",
              "</style>\n",
              "<table border=\"1\" class=\"dataframe\">\n",
              "  <thead>\n",
              "    <tr style=\"text-align: right;\">\n",
              "      <th></th>\n",
              "      <th>listing_id</th>\n",
              "      <th>listing_heading</th>\n",
              "      <th>listing_type</th>\n",
              "      <th>listing_url</th>\n",
              "      <th>listing_first_date</th>\n",
              "      <th>days_on_market</th>\n",
              "      <th>dealer_id</th>\n",
              "      <th>dealer_name</th>\n",
              "      <th>dealer_street</th>\n",
              "      <th>dealer_city</th>\n",
              "      <th>...</th>\n",
              "      <th>wheelbase_from_vin</th>\n",
              "      <th>drivetrain_from_vin</th>\n",
              "      <th>engine_from_vin</th>\n",
              "      <th>transmission_from_vin</th>\n",
              "      <th>fuel_type_from_vin</th>\n",
              "      <th>number_price_changes</th>\n",
              "      <th>price_history_delimited</th>\n",
              "      <th>distance_to_dealer</th>\n",
              "      <th>location_score</th>\n",
              "      <th>listing_dropoff_date</th>\n",
              "    </tr>\n",
              "  </thead>\n",
              "  <tbody>\n",
              "    <tr>\n",
              "      <th>0</th>\n",
              "      <td>f5b663d2-4896-11ef-a15b-8b4423f1ff08</td>\n",
              "      <td>1987 IROC Z  350 Auto T-Tops</td>\n",
              "      <td>Active</td>\n",
              "      <td>https://www.kijiji.ca/v-cars-trucks/edmonton/1...</td>\n",
              "      <td>7/22/2024 0:00</td>\n",
              "      <td>9</td>\n",
              "      <td>11152931</td>\n",
              "      <td>David T's Camaro &amp; Firebird Auto Center</td>\n",
              "      <td>10611 201 St NW</td>\n",
              "      <td>Edmonton</td>\n",
              "      <td>...</td>\n",
              "      <td>0.0</td>\n",
              "      <td>RWD</td>\n",
              "      <td>5.7L V8 TBI</td>\n",
              "      <td>A</td>\n",
              "      <td>Gas</td>\n",
              "      <td>0.0</td>\n",
              "      <td>2024-07-22,11500,230860</td>\n",
              "      <td>9.84</td>\n",
              "      <td>5.0</td>\n",
              "      <td>NaN</td>\n",
              "    </tr>\n",
              "    <tr>\n",
              "      <th>1</th>\n",
              "      <td>a9f565e6-4712-11ef-a23f-79dc25c5e601</td>\n",
              "      <td>NaN</td>\n",
              "      <td>Sold</td>\n",
              "      <td>https://www.redlinemotors.ca/vehicle-details/1...</td>\n",
              "      <td>7/20/2024 0:00</td>\n",
              "      <td>4</td>\n",
              "      <td>11131329</td>\n",
              "      <td>Redlinemotors.Ca</td>\n",
              "      <td>14421 Mark Messier Trail</td>\n",
              "      <td>Edmonton</td>\n",
              "      <td>...</td>\n",
              "      <td>0.0</td>\n",
              "      <td>RWD</td>\n",
              "      <td>5.2L V8</td>\n",
              "      <td>A</td>\n",
              "      <td>Gas</td>\n",
              "      <td>0.0</td>\n",
              "      <td>2024-07-20,8700,48905</td>\n",
              "      <td>8.30</td>\n",
              "      <td>5.0</td>\n",
              "      <td>7/24/2024 0:00</td>\n",
              "    </tr>\n",
              "    <tr>\n",
              "      <th>2</th>\n",
              "      <td>03d18c58-253a-11ef-8f33-8905b4a2f000</td>\n",
              "      <td>1989 Cadillac DeVille Sedan FWD</td>\n",
              "      <td>Active</td>\n",
              "      <td>https://www.sweetheartmotor.com/cars/used/1989...</td>\n",
              "      <td>6/7/2024 0:00</td>\n",
              "      <td>54</td>\n",
              "      <td>11161704</td>\n",
              "      <td>Gateway Auto &amp; Rv Sales &amp; Financing Ltd</td>\n",
              "      <td>5404 Gateway Blvd NW</td>\n",
              "      <td>Edmonton</td>\n",
              "      <td>...</td>\n",
              "      <td>0.0</td>\n",
              "      <td>FWD</td>\n",
              "      <td>4.5L V8 DI</td>\n",
              "      <td>A</td>\n",
              "      <td>Gas</td>\n",
              "      <td>0.0</td>\n",
              "      <td>2024-06-07,6000,174640</td>\n",
              "      <td>5.71</td>\n",
              "      <td>4.0</td>\n",
              "      <td>NaN</td>\n",
              "    </tr>\n",
              "    <tr>\n",
              "      <th>3</th>\n",
              "      <td>2d12630b-460e-11ee-89c4-e5b3161d4741</td>\n",
              "      <td>1989 Cadillac DeVille Sedan FWD</td>\n",
              "      <td>Active</td>\n",
              "      <td>https://www.sweetheartmotor.com/cars/used/1989...</td>\n",
              "      <td>8/28/2023 0:00</td>\n",
              "      <td>338</td>\n",
              "      <td>11128265</td>\n",
              "      <td>Credit Angels</td>\n",
              "      <td>5404 Gateway Blvd NW</td>\n",
              "      <td>Edmonton</td>\n",
              "      <td>...</td>\n",
              "      <td>0.0</td>\n",
              "      <td>FWD</td>\n",
              "      <td>4.5L V8 DI</td>\n",
              "      <td>A</td>\n",
              "      <td>Gas</td>\n",
              "      <td>4.0</td>\n",
              "      <td>2023-08-28,4500,174640:2023-09-13,5900,174640:...</td>\n",
              "      <td>5.71</td>\n",
              "      <td>5.0</td>\n",
              "      <td>NaN</td>\n",
              "    </tr>\n",
              "    <tr>\n",
              "      <th>4</th>\n",
              "      <td>53a8e550-47cd-11ef-8587-f926ecb61035</td>\n",
              "      <td>1989 Camaro IROC 350 Auto T-Top</td>\n",
              "      <td>Active</td>\n",
              "      <td>https://www.kijiji.ca/v-cars-trucks/edmonton/1...</td>\n",
              "      <td>7/21/2024 0:00</td>\n",
              "      <td>10</td>\n",
              "      <td>11152931</td>\n",
              "      <td>David T's Camaro &amp; Firebird Auto Center</td>\n",
              "      <td>10611 201 St NW</td>\n",
              "      <td>Edmonton</td>\n",
              "      <td>...</td>\n",
              "      <td>0.0</td>\n",
              "      <td>RWD</td>\n",
              "      <td>5.7L V8 TBI</td>\n",
              "      <td>A</td>\n",
              "      <td>Gas</td>\n",
              "      <td>0.0</td>\n",
              "      <td>2024-07-21,8500,288000</td>\n",
              "      <td>9.84</td>\n",
              "      <td>5.0</td>\n",
              "      <td>NaN</td>\n",
              "    </tr>\n",
              "  </tbody>\n",
              "</table>\n",
              "<p>5 rows × 46 columns</p>\n",
              "</div>\n",
              "    <div class=\"colab-df-buttons\">\n",
              "\n",
              "  <div class=\"colab-df-container\">\n",
              "    <button class=\"colab-df-convert\" onclick=\"convertToInteractive('df-fdbc93b9-0308-4153-a37b-71ff2094ebcb')\"\n",
              "            title=\"Convert this dataframe to an interactive table.\"\n",
              "            style=\"display:none;\">\n",
              "\n",
              "  <svg xmlns=\"http://www.w3.org/2000/svg\" height=\"24px\" viewBox=\"0 -960 960 960\">\n",
              "    <path d=\"M120-120v-720h720v720H120Zm60-500h600v-160H180v160Zm220 220h160v-160H400v160Zm0 220h160v-160H400v160ZM180-400h160v-160H180v160Zm440 0h160v-160H620v160ZM180-180h160v-160H180v160Zm440 0h160v-160H620v160Z\"/>\n",
              "  </svg>\n",
              "    </button>\n",
              "\n",
              "  <style>\n",
              "    .colab-df-container {\n",
              "      display:flex;\n",
              "      gap: 12px;\n",
              "    }\n",
              "\n",
              "    .colab-df-convert {\n",
              "      background-color: #E8F0FE;\n",
              "      border: none;\n",
              "      border-radius: 50%;\n",
              "      cursor: pointer;\n",
              "      display: none;\n",
              "      fill: #1967D2;\n",
              "      height: 32px;\n",
              "      padding: 0 0 0 0;\n",
              "      width: 32px;\n",
              "    }\n",
              "\n",
              "    .colab-df-convert:hover {\n",
              "      background-color: #E2EBFA;\n",
              "      box-shadow: 0px 1px 2px rgba(60, 64, 67, 0.3), 0px 1px 3px 1px rgba(60, 64, 67, 0.15);\n",
              "      fill: #174EA6;\n",
              "    }\n",
              "\n",
              "    .colab-df-buttons div {\n",
              "      margin-bottom: 4px;\n",
              "    }\n",
              "\n",
              "    [theme=dark] .colab-df-convert {\n",
              "      background-color: #3B4455;\n",
              "      fill: #D2E3FC;\n",
              "    }\n",
              "\n",
              "    [theme=dark] .colab-df-convert:hover {\n",
              "      background-color: #434B5C;\n",
              "      box-shadow: 0px 1px 3px 1px rgba(0, 0, 0, 0.15);\n",
              "      filter: drop-shadow(0px 1px 2px rgba(0, 0, 0, 0.3));\n",
              "      fill: #FFFFFF;\n",
              "    }\n",
              "  </style>\n",
              "\n",
              "    <script>\n",
              "      const buttonEl =\n",
              "        document.querySelector('#df-fdbc93b9-0308-4153-a37b-71ff2094ebcb button.colab-df-convert');\n",
              "      buttonEl.style.display =\n",
              "        google.colab.kernel.accessAllowed ? 'block' : 'none';\n",
              "\n",
              "      async function convertToInteractive(key) {\n",
              "        const element = document.querySelector('#df-fdbc93b9-0308-4153-a37b-71ff2094ebcb');\n",
              "        const dataTable =\n",
              "          await google.colab.kernel.invokeFunction('convertToInteractive',\n",
              "                                                    [key], {});\n",
              "        if (!dataTable) return;\n",
              "\n",
              "        const docLinkHtml = 'Like what you see? Visit the ' +\n",
              "          '<a target=\"_blank\" href=https://colab.research.google.com/notebooks/data_table.ipynb>data table notebook</a>'\n",
              "          + ' to learn more about interactive tables.';\n",
              "        element.innerHTML = '';\n",
              "        dataTable['output_type'] = 'display_data';\n",
              "        await google.colab.output.renderOutput(dataTable, element);\n",
              "        const docLink = document.createElement('div');\n",
              "        docLink.innerHTML = docLinkHtml;\n",
              "        element.appendChild(docLink);\n",
              "      }\n",
              "    </script>\n",
              "  </div>\n",
              "\n",
              "\n",
              "<div id=\"df-ee5b1bda-2491-4934-9a47-7f9fbeff079b\">\n",
              "  <button class=\"colab-df-quickchart\" onclick=\"quickchart('df-ee5b1bda-2491-4934-9a47-7f9fbeff079b')\"\n",
              "            title=\"Suggest charts\"\n",
              "            style=\"display:none;\">\n",
              "\n",
              "<svg xmlns=\"http://www.w3.org/2000/svg\" height=\"24px\"viewBox=\"0 0 24 24\"\n",
              "     width=\"24px\">\n",
              "    <g>\n",
              "        <path d=\"M19 3H5c-1.1 0-2 .9-2 2v14c0 1.1.9 2 2 2h14c1.1 0 2-.9 2-2V5c0-1.1-.9-2-2-2zM9 17H7v-7h2v7zm4 0h-2V7h2v10zm4 0h-2v-4h2v4z\"/>\n",
              "    </g>\n",
              "</svg>\n",
              "  </button>\n",
              "\n",
              "<style>\n",
              "  .colab-df-quickchart {\n",
              "      --bg-color: #E8F0FE;\n",
              "      --fill-color: #1967D2;\n",
              "      --hover-bg-color: #E2EBFA;\n",
              "      --hover-fill-color: #174EA6;\n",
              "      --disabled-fill-color: #AAA;\n",
              "      --disabled-bg-color: #DDD;\n",
              "  }\n",
              "\n",
              "  [theme=dark] .colab-df-quickchart {\n",
              "      --bg-color: #3B4455;\n",
              "      --fill-color: #D2E3FC;\n",
              "      --hover-bg-color: #434B5C;\n",
              "      --hover-fill-color: #FFFFFF;\n",
              "      --disabled-bg-color: #3B4455;\n",
              "      --disabled-fill-color: #666;\n",
              "  }\n",
              "\n",
              "  .colab-df-quickchart {\n",
              "    background-color: var(--bg-color);\n",
              "    border: none;\n",
              "    border-radius: 50%;\n",
              "    cursor: pointer;\n",
              "    display: none;\n",
              "    fill: var(--fill-color);\n",
              "    height: 32px;\n",
              "    padding: 0;\n",
              "    width: 32px;\n",
              "  }\n",
              "\n",
              "  .colab-df-quickchart:hover {\n",
              "    background-color: var(--hover-bg-color);\n",
              "    box-shadow: 0 1px 2px rgba(60, 64, 67, 0.3), 0 1px 3px 1px rgba(60, 64, 67, 0.15);\n",
              "    fill: var(--button-hover-fill-color);\n",
              "  }\n",
              "\n",
              "  .colab-df-quickchart-complete:disabled,\n",
              "  .colab-df-quickchart-complete:disabled:hover {\n",
              "    background-color: var(--disabled-bg-color);\n",
              "    fill: var(--disabled-fill-color);\n",
              "    box-shadow: none;\n",
              "  }\n",
              "\n",
              "  .colab-df-spinner {\n",
              "    border: 2px solid var(--fill-color);\n",
              "    border-color: transparent;\n",
              "    border-bottom-color: var(--fill-color);\n",
              "    animation:\n",
              "      spin 1s steps(1) infinite;\n",
              "  }\n",
              "\n",
              "  @keyframes spin {\n",
              "    0% {\n",
              "      border-color: transparent;\n",
              "      border-bottom-color: var(--fill-color);\n",
              "      border-left-color: var(--fill-color);\n",
              "    }\n",
              "    20% {\n",
              "      border-color: transparent;\n",
              "      border-left-color: var(--fill-color);\n",
              "      border-top-color: var(--fill-color);\n",
              "    }\n",
              "    30% {\n",
              "      border-color: transparent;\n",
              "      border-left-color: var(--fill-color);\n",
              "      border-top-color: var(--fill-color);\n",
              "      border-right-color: var(--fill-color);\n",
              "    }\n",
              "    40% {\n",
              "      border-color: transparent;\n",
              "      border-right-color: var(--fill-color);\n",
              "      border-top-color: var(--fill-color);\n",
              "    }\n",
              "    60% {\n",
              "      border-color: transparent;\n",
              "      border-right-color: var(--fill-color);\n",
              "    }\n",
              "    80% {\n",
              "      border-color: transparent;\n",
              "      border-right-color: var(--fill-color);\n",
              "      border-bottom-color: var(--fill-color);\n",
              "    }\n",
              "    90% {\n",
              "      border-color: transparent;\n",
              "      border-bottom-color: var(--fill-color);\n",
              "    }\n",
              "  }\n",
              "</style>\n",
              "\n",
              "  <script>\n",
              "    async function quickchart(key) {\n",
              "      const quickchartButtonEl =\n",
              "        document.querySelector('#' + key + ' button');\n",
              "      quickchartButtonEl.disabled = true;  // To prevent multiple clicks.\n",
              "      quickchartButtonEl.classList.add('colab-df-spinner');\n",
              "      try {\n",
              "        const charts = await google.colab.kernel.invokeFunction(\n",
              "            'suggestCharts', [key], {});\n",
              "      } catch (error) {\n",
              "        console.error('Error during call to suggestCharts:', error);\n",
              "      }\n",
              "      quickchartButtonEl.classList.remove('colab-df-spinner');\n",
              "      quickchartButtonEl.classList.add('colab-df-quickchart-complete');\n",
              "    }\n",
              "    (() => {\n",
              "      let quickchartButtonEl =\n",
              "        document.querySelector('#df-ee5b1bda-2491-4934-9a47-7f9fbeff079b button');\n",
              "      quickchartButtonEl.style.display =\n",
              "        google.colab.kernel.accessAllowed ? 'block' : 'none';\n",
              "    })();\n",
              "  </script>\n",
              "</div>\n",
              "\n",
              "    </div>\n",
              "  </div>\n"
            ],
            "application/vnd.google.colaboratory.intrinsic+json": {
              "type": "dataframe",
              "variable_name": "df"
            }
          },
          "metadata": {},
          "execution_count": 4
        }
      ]
    },
    {
      "cell_type": "code",
      "source": [
        "df['mileage'].isnull().sum()"
      ],
      "metadata": {
        "colab": {
          "base_uri": "https://localhost:8080/"
        },
        "id": "OHrg3Ve_3tHB",
        "outputId": "a4822c34-6498-4e42-ed76-40366603766a"
      },
      "execution_count": null,
      "outputs": [
        {
          "output_type": "execute_result",
          "data": {
            "text/plain": [
              "0"
            ]
          },
          "metadata": {},
          "execution_count": 5
        }
      ]
    },
    {
      "cell_type": "code",
      "source": [
        "for i in range (df.shape[0]):\n",
        "  if df['mileage'].loc[i] == 0:\n",
        "    df['mileage'].loc[i] = np.nan\n"
      ],
      "metadata": {
        "colab": {
          "base_uri": "https://localhost:8080/"
        },
        "id": "ihDD9LCt3wm9",
        "outputId": "a77eb22c-8816-4aa3-9e0e-e8579be3e597"
      },
      "execution_count": null,
      "outputs": [
        {
          "output_type": "stream",
          "name": "stderr",
          "text": [
            "<ipython-input-7-0b135e35b3d3>:3: FutureWarning: ChainedAssignmentError: behaviour will change in pandas 3.0!\n",
            "You are setting values through chained assignment. Currently this works in certain cases, but when using Copy-on-Write (which will become the default behaviour in pandas 3.0) this will never work to update the original DataFrame or Series, because the intermediate object on which we are setting values will behave as a copy.\n",
            "A typical example is when you are setting values in a column of a DataFrame, like:\n",
            "\n",
            "df[\"col\"][row_indexer] = value\n",
            "\n",
            "Use `df.loc[row_indexer, \"col\"] = values` instead, to perform the assignment in a single step and ensure this keeps updating the original `df`.\n",
            "\n",
            "See the caveats in the documentation: https://pandas.pydata.org/pandas-docs/stable/user_guide/indexing.html#returning-a-view-versus-a-copy\n",
            "\n",
            "  df['mileage'].loc[i] = np.nan\n",
            "<ipython-input-7-0b135e35b3d3>:3: SettingWithCopyWarning: \n",
            "A value is trying to be set on a copy of a slice from a DataFrame\n",
            "\n",
            "See the caveats in the documentation: https://pandas.pydata.org/pandas-docs/stable/user_guide/indexing.html#returning-a-view-versus-a-copy\n",
            "  df['mileage'].loc[i] = np.nan\n",
            "<ipython-input-7-0b135e35b3d3>:3: FutureWarning: ChainedAssignmentError: behaviour will change in pandas 3.0!\n",
            "You are setting values through chained assignment. Currently this works in certain cases, but when using Copy-on-Write (which will become the default behaviour in pandas 3.0) this will never work to update the original DataFrame or Series, because the intermediate object on which we are setting values will behave as a copy.\n",
            "A typical example is when you are setting values in a column of a DataFrame, like:\n",
            "\n",
            "df[\"col\"][row_indexer] = value\n",
            "\n",
            "Use `df.loc[row_indexer, \"col\"] = values` instead, to perform the assignment in a single step and ensure this keeps updating the original `df`.\n",
            "\n",
            "See the caveats in the documentation: https://pandas.pydata.org/pandas-docs/stable/user_guide/indexing.html#returning-a-view-versus-a-copy\n",
            "\n",
            "  df['mileage'].loc[i] = np.nan\n"
          ]
        }
      ]
    },
    {
      "cell_type": "code",
      "source": [
        "df['mileage'].isnull().sum()"
      ],
      "metadata": {
        "colab": {
          "base_uri": "https://localhost:8080/"
        },
        "id": "x37AjueX4cix",
        "outputId": "7a5e4cda-2f57-4448-96e0-643ec4d6700c"
      },
      "execution_count": null,
      "outputs": [
        {
          "output_type": "execute_result",
          "data": {
            "text/plain": [
              "6686"
            ]
          },
          "metadata": {},
          "execution_count": 8
        }
      ]
    },
    {
      "cell_type": "code",
      "source": [
        "sum1 = 0\n",
        "for i in range(df.shape[0]):\n",
        "  if df['mileage'].loc[i] == 0:\n",
        "    sum1 += 1\n",
        "print(sum1)"
      ],
      "metadata": {
        "colab": {
          "base_uri": "https://localhost:8080/"
        },
        "id": "CvGSmZ974qyt",
        "outputId": "9acb8de7-21d9-4143-ea1a-8712a4fc8579"
      },
      "execution_count": null,
      "outputs": [
        {
          "output_type": "stream",
          "name": "stdout",
          "text": [
            "0\n"
          ]
        }
      ]
    },
    {
      "cell_type": "code",
      "source": [
        "import matplotlib.pyplot as plt"
      ],
      "metadata": {
        "id": "-XW60X2n4_lq"
      },
      "execution_count": null,
      "outputs": []
    },
    {
      "cell_type": "code",
      "source": [
        "plt.scatter(df['mileage'],df.index)"
      ],
      "metadata": {
        "colab": {
          "base_uri": "https://localhost:8080/",
          "height": 465
        },
        "id": "MM4ywNft5GL1",
        "outputId": "5911cb02-1d58-4ab2-b285-3b9b345be000"
      },
      "execution_count": null,
      "outputs": [
        {
          "output_type": "execute_result",
          "data": {
            "text/plain": [
              "<matplotlib.collections.PathCollection at 0x7a2bfb6e5690>"
            ]
          },
          "metadata": {},
          "execution_count": 11
        },
        {
          "output_type": "display_data",
          "data": {
            "text/plain": [
              "<Figure size 640x480 with 1 Axes>"
            ],
            "image/png": "[encoded data removed]"
          },
          "metadata": {}
        }
      ]
    },
    {
      "cell_type": "code",
      "source": [
        "plt.scatter(df.index,df['mileage'])"
      ],
      "metadata": {
        "colab": {
          "base_uri": "https://localhost:8080/",
          "height": 462
        },
        "id": "uByM1K4q5MHu",
        "outputId": "8a207eef-4b45-405a-9fb6-a0f0849058cc"
      },
      "execution_count": null,
      "outputs": [
        {
          "output_type": "execute_result",
          "data": {
            "text/plain": [
              "<matplotlib.collections.PathCollection at 0x7a2bf4473d50>"
            ]
          },
          "metadata": {},
          "execution_count": 12
        },
        {
          "output_type": "display_data",
          "data": {
            "text/plain": [
              "<Figure size 640x480 with 1 Axes>"
            ],
            "image/png": "[encoded data removed]"
          },
          "metadata": {}
        }
      ]
    },
    {
      "cell_type": "code",
      "source": [
        "i = range(df.shape[0])\n",
        "(df['mileage'].loc[i] == 0).sum()"
      ],
      "metadata": {
        "colab": {
          "base_uri": "https://localhost:8080/"
        },
        "id": "RwFscjDd5UDZ",
        "outputId": "3181f2ef-7658-4eba-d46d-b2a3de6ec5a8"
      },
      "execution_count": null,
      "outputs": [
        {
          "output_type": "execute_result",
          "data": {
            "text/plain": [
              "0"
            ]
          },
          "metadata": {},
          "execution_count": 15
        }
      ]
    },
    {
      "cell_type": "code",
      "source": [
        "np.count_nonzero(df['mileage'])"
      ],
      "metadata": {
        "colab": {
          "base_uri": "https://localhost:8080/"
        },
        "id": "28fvKsqm5lZv",
        "outputId": "baa9d4b8-be56-4728-8c06-a176fcd678c6"
      },
      "execution_count": null,
      "outputs": [
        {
          "output_type": "execute_result",
          "data": {
            "text/plain": [
              "129721"
            ]
          },
          "metadata": {},
          "execution_count": 16
        }
      ]
    },
    {
      "cell_type": "code",
      "source": [
        "6686 + 129721"
      ],
      "metadata": {
        "colab": {
          "base_uri": "https://localhost:8080/"
        },
        "id": "1l35C1fT55PX",
        "outputId": "4aa3a2bd-537b-4d5a-f7cc-d5f21df7e843"
      },
      "execution_count": null,
      "outputs": [
        {
          "output_type": "execute_result",
          "data": {
            "text/plain": [
              "136407"
            ]
          },
          "metadata": {},
          "execution_count": 17
        }
      ]
    },
    {
      "cell_type": "code",
      "source": [
        "10175 + 129721"
      ],
      "metadata": {
        "colab": {
          "base_uri": "https://localhost:8080/"
        },
        "id": "ZvzmgI2M6BIT",
        "outputId": "6b64b7a8-9766-4424-9e0e-420194ea0249"
      },
      "execution_count": null,
      "outputs": [
        {
          "output_type": "execute_result",
          "data": {
            "text/plain": [
              "139896"
            ]
          },
          "metadata": {},
          "execution_count": 18
        }
      ]
    },
    {
      "cell_type": "code",
      "source": [
        "df['mileage']"
      ],
      "metadata": {
        "colab": {
          "base_uri": "https://localhost:8080/",
          "height": 453
        },
        "id": "tZEBAz776LUQ",
        "outputId": "1e5117d2-e232-4a1e-9f8e-2299f791458b"
      },
      "execution_count": null,
      "outputs": [
        {
          "output_type": "execute_result",
          "data": {
            "text/plain": [
              "0         230860.0\n",
              "1          48905.0\n",
              "2         174640.0\n",
              "3         174640.0\n",
              "4         288000.0\n",
              "            ...   \n",
              "129716        15.0\n",
              "129717        15.0\n",
              "129718        75.0\n",
              "129719        50.0\n",
              "129720        15.0\n",
              "Name: mileage, Length: 129721, dtype: float64"
            ],
            "text/html": [
              "<div>\n",
              "<style scoped>\n",
              "    .dataframe tbody tr th:only-of-type {\n",
              "        vertical-align: middle;\n",
              "    }\n",
              "\n",
              "    .dataframe tbody tr th {\n",
              "        vertical-align: top;\n",
              "    }\n",
              "\n",
              "    .dataframe thead th {\n",
              "        text-align: right;\n",
              "    }\n",
              "</style>\n",
              "<table border=\"1\" class=\"dataframe\">\n",
              "  <thead>\n",
              "    <tr style=\"text-align: right;\">\n",
              "      <th></th>\n",
              "      <th>mileage</th>\n",
              "    </tr>\n",
              "  </thead>\n",
              "  <tbody>\n",
              "    <tr>\n",
              "      <th>0</th>\n",
              "      <td>230860.0</td>\n",
              "    </tr>\n",
              "    <tr>\n",
              "      <th>1</th>\n",
              "      <td>48905.0</td>\n",
              "    </tr>\n",
              "    <tr>\n",
              "      <th>2</th>\n",
              "      <td>174640.0</td>\n",
              "    </tr>\n",
              "    <tr>\n",
              "      <th>3</th>\n",
              "      <td>174640.0</td>\n",
              "    </tr>\n",
              "    <tr>\n",
              "      <th>4</th>\n",
              "      <td>288000.0</td>\n",
              "    </tr>\n",
              "    <tr>\n",
              "      <th>...</th>\n",
              "      <td>...</td>\n",
              "    </tr>\n",
              "    <tr>\n",
              "      <th>129716</th>\n",
              "      <td>15.0</td>\n",
              "    </tr>\n",
              "    <tr>\n",
              "      <th>129717</th>\n",
              "      <td>15.0</td>\n",
              "    </tr>\n",
              "    <tr>\n",
              "      <th>129718</th>\n",
              "      <td>75.0</td>\n",
              "    </tr>\n",
              "    <tr>\n",
              "      <th>129719</th>\n",
              "      <td>50.0</td>\n",
              "    </tr>\n",
              "    <tr>\n",
              "      <th>129720</th>\n",
              "      <td>15.0</td>\n",
              "    </tr>\n",
              "  </tbody>\n",
              "</table>\n",
              "<p>129721 rows × 1 columns</p>\n",
              "</div><br><label><b>dtype:</b> float64</label>"
            ]
          },
          "metadata": {},
          "execution_count": 19
        }
      ]
    },
    {
      "cell_type": "code",
      "source": [
        "df.shape"
      ],
      "metadata": {
        "colab": {
          "base_uri": "https://localhost:8080/"
        },
        "id": "qJXDWqOm6Qnb",
        "outputId": "2451b694-fcb1-4684-aa07-b50f93ca3fe6"
      },
      "execution_count": null,
      "outputs": [
        {
          "output_type": "execute_result",
          "data": {
            "text/plain": [
              "(129721, 46)"
            ]
          },
          "metadata": {},
          "execution_count": 20
        }
      ]
    },
    {
      "cell_type": "code",
      "source": [],
      "metadata": {
        "id": "mkc12nmi6Vl_"
      },
      "execution_count": null,
      "outputs": []
    }
  ]
}