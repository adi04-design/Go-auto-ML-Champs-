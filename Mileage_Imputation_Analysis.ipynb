{
  "nbformat": 4,
  "nbformat_minor": 0,
  "metadata": {
    "colab": {
      "provenance": []
    },
    "kernelspec": {
      "name": "python3",
      "display_name": "Python 3"
    },
    "language_info": {
      "name": "python"
    }
  },
  "cells": [
    {
      "cell_type": "code",
      "execution_count": null,
      "metadata": {
        "id": "SEv4R0Fq74fo"
      },
      "outputs": [],
      "source": [
        "import pandas as pd\n",
        "import numpy as np"
      ]
    },
    {
      "cell_type": "code",
      "source": [
        "df = pd.read_csv('Go_Auto_Dataset.csv')"
      ],
      "metadata": {
        "id": "9fO0srIx79KZ"
      },
      "execution_count": null,
      "outputs": []
    },
    {
      "cell_type": "code",
      "source": [
        "df.shape"
      ],
      "metadata": {
        "colab": {
          "base_uri": "https://localhost:8080/"
        },
        "id": "4b_arQkU8SZb",
        "outputId": "8c911c0a-34e8-4259-dc41-72ce1c076b7d"
      },
      "execution_count": null,
      "outputs": [
        {
          "output_type": "execute_result",
          "data": {
            "text/plain": [
              "(145114, 46)"
            ]
          },
          "metadata": {},
          "execution_count": 5
        }
      ]
    },
    {
      "cell_type": "code",
      "source": [
        "df['mileage'].isnull().sum()"
      ],
      "metadata": {
        "colab": {
          "base_uri": "https://localhost:8080/"
        },
        "id": "tO0XrNgh8Teq",
        "outputId": "6db1e643-2c97-468e-b092-96e64347c34d"
      },
      "execution_count": null,
      "outputs": [
        {
          "output_type": "execute_result",
          "data": {
            "text/plain": [
              "0"
            ]
          },
          "metadata": {},
          "execution_count": 6
        }
      ]
    },
    {
      "cell_type": "code",
      "source": [
        "a = range(df.shape[0])\n",
        "(df['mileage'][a] == 0).sum()"
      ],
      "metadata": {
        "colab": {
          "base_uri": "https://localhost:8080/"
        },
        "id": "BaWJGgfR8YOm",
        "outputId": "fecccbbe-ef3a-45ad-e6a5-9c8e053a1c09"
      },
      "execution_count": null,
      "outputs": [
        {
          "output_type": "execute_result",
          "data": {
            "text/plain": [
              "10175"
            ]
          },
          "metadata": {},
          "execution_count": 7
        }
      ]
    },
    {
      "cell_type": "code",
      "source": [
        "df['mileage'] = df['mileage'].replace(0, np.nan)"
      ],
      "metadata": {
        "id": "jfJGicUb8lJB"
      },
      "execution_count": null,
      "outputs": []
    },
    {
      "cell_type": "code",
      "source": [
        "df['mileage'].isnull().sum()"
      ],
      "metadata": {
        "colab": {
          "base_uri": "https://localhost:8080/"
        },
        "id": "3I37G85p83dJ",
        "outputId": "21abe611-ef66-4843-b197-7838040859ea"
      },
      "execution_count": null,
      "outputs": [
        {
          "output_type": "execute_result",
          "data": {
            "text/plain": [
              "10175"
            ]
          },
          "metadata": {},
          "execution_count": 9
        }
      ]
    },
    {
      "cell_type": "code",
      "source": [
        "df['mileage'] = df['mileage'].fillna(df['mileage'].mean())"
      ],
      "metadata": {
        "id": "OiAy0D-W9M3E"
      },
      "execution_count": null,
      "outputs": []
    },
    {
      "cell_type": "code",
      "source": [
        "df['mileage'].isnull().sum()"
      ],
      "metadata": {
        "colab": {
          "base_uri": "https://localhost:8080/"
        },
        "id": "cMEtgNF79ctv",
        "outputId": "db697b37-82d4-4e24-efbc-fb3217f689fd"
      },
      "execution_count": null,
      "outputs": [
        {
          "output_type": "execute_result",
          "data": {
            "text/plain": [
              "0"
            ]
          },
          "metadata": {},
          "execution_count": 11
        }
      ]
    },
    {
      "cell_type": "code",
      "source": [
        "import matplotlib.pyplot as plt\n",
        "plt.scatter(df['mileage'], df.index)\n",
        "plt.show()"
      ],
      "metadata": {
        "colab": {
          "base_uri": "https://localhost:8080/",
          "height": 448
        },
        "id": "Qj8NPF2i9fcr",
        "outputId": "be40c4de-4c6a-4615-958e-8fe75f633b5e"
      },
      "execution_count": null,
      "outputs": [
        {
          "output_type": "display_data",
          "data": {
            "text/plain": [
              "<Figure size 640x480 with 1 Axes>"
            ],
            "image/png": "[encoded data removed]"
          },
          "metadata": {}
        }
      ]
    },
    {
      "cell_type": "code",
      "source": [
        "df['listing_heading'].isnull().sum()"
      ],
      "metadata": {
        "colab": {
          "base_uri": "https://localhost:8080/"
        },
        "id": "8-44ZM6t9pez",
        "outputId": "1c85e9e2-5c8f-46d2-c0be-acbf31330cc7"
      },
      "execution_count": null,
      "outputs": [
        {
          "output_type": "execute_result",
          "data": {
            "text/plain": [
              "4015"
            ]
          },
          "metadata": {},
          "execution_count": 13
        }
      ]
    },
    {
      "cell_type": "code",
      "source": [
        "df['listing_heading'] = df['listing_heading'].fillna(df['listing_heading'].mode()[0])"
      ],
      "metadata": {
        "id": "F8ycWlNL-EpP"
      },
      "execution_count": null,
      "outputs": []
    },
    {
      "cell_type": "code",
      "source": [
        "df['listing_heading'].isnull().sum()"
      ],
      "metadata": {
        "colab": {
          "base_uri": "https://localhost:8080/"
        },
        "id": "NcxFsgje-NRq",
        "outputId": "03b43209-3a54-48cd-aad5-bac200cd42cb"
      },
      "execution_count": null,
      "outputs": [
        {
          "output_type": "execute_result",
          "data": {
            "text/plain": [
              "0"
            ]
          },
          "metadata": {},
          "execution_count": 15
        }
      ]
    },
    {
      "cell_type": "code",
      "source": [
        "df['price'].isnull().sum()"
      ],
      "metadata": {
        "colab": {
          "base_uri": "https://localhost:8080/"
        },
        "id": "EDs8yXA1-RwR",
        "outputId": "9bd04acf-39b4-4baf-cb60-d860707178c4"
      },
      "execution_count": null,
      "outputs": [
        {
          "output_type": "execute_result",
          "data": {
            "text/plain": [
              "0"
            ]
          },
          "metadata": {},
          "execution_count": 16
        }
      ]
    },
    {
      "cell_type": "code",
      "source": [
        "df['price'] = df['price'].replace(0,np.nan)"
      ],
      "metadata": {
        "id": "bTt-dIK_-XV0"
      },
      "execution_count": null,
      "outputs": []
    },
    {
      "cell_type": "code",
      "source": [
        "df['price'] = df['price'].fillna(df['price'].mean())"
      ],
      "metadata": {
        "id": "606brcAn-oRn"
      },
      "execution_count": null,
      "outputs": []
    },
    {
      "cell_type": "code",
      "source": [
        "plt.hist(df['price'],bins = 10)\n",
        "plt.show()"
      ],
      "metadata": {
        "colab": {
          "base_uri": "https://localhost:8080/",
          "height": 448
        },
        "id": "9kuIbEVk-r3e",
        "outputId": "bf4522c1-affe-4771-9109-60e22d0572ec"
      },
      "execution_count": null,
      "outputs": [
        {
          "output_type": "display_data",
          "data": {
            "text/plain": [
              "<Figure size 640x480 with 1 Axes>"
            ],
            "image/png": "[encoded data removed]"
          },
          "metadata": {}
        }
      ]
    },
    {
      "cell_type": "code",
      "source": [
        "df['model_year'].isnull().sum()"
      ],
      "metadata": {
        "colab": {
          "base_uri": "https://localhost:8080/"
        },
        "id": "BMFus4su-vl4",
        "outputId": "7904df43-ef8b-4e56-efaa-250f55f5b480"
      },
      "execution_count": null,
      "outputs": [
        {
          "output_type": "execute_result",
          "data": {
            "text/plain": [
              "0"
            ]
          },
          "metadata": {},
          "execution_count": 20
        }
      ]
    },
    {
      "cell_type": "code",
      "source": [
        "a = range(df.shape[0])\n",
        "(df['model_year'][a] == 0).sum()"
      ],
      "metadata": {
        "colab": {
          "base_uri": "https://localhost:8080/"
        },
        "id": "kOHdM_8_BrQo",
        "outputId": "0d026e79-bbd9-4aba-a896-561ae2966871"
      },
      "execution_count": null,
      "outputs": [
        {
          "output_type": "execute_result",
          "data": {
            "text/plain": [
              "0"
            ]
          },
          "metadata": {},
          "execution_count": 21
        }
      ]
    },
    {
      "cell_type": "code",
      "source": [
        "df['make'].isnull().sum()"
      ],
      "metadata": {
        "colab": {
          "base_uri": "https://localhost:8080/"
        },
        "id": "msFttU52CSJt",
        "outputId": "ed4ec6bd-dc37-40e1-a879-190e38faf916"
      },
      "execution_count": null,
      "outputs": [
        {
          "output_type": "execute_result",
          "data": {
            "text/plain": [
              "0"
            ]
          },
          "metadata": {},
          "execution_count": 22
        }
      ]
    },
    {
      "cell_type": "code",
      "source": [
        "a = range(df.shape[0])\n",
        "(df['make'][a] == 0).sum()"
      ],
      "metadata": {
        "colab": {
          "base_uri": "https://localhost:8080/"
        },
        "id": "-bwupOQzCwP8",
        "outputId": "6be98e78-ecb1-4a4b-ef50-53aec19df238"
      },
      "execution_count": null,
      "outputs": [
        {
          "output_type": "execute_result",
          "data": {
            "text/plain": [
              "0"
            ]
          },
          "metadata": {},
          "execution_count": 23
        }
      ]
    },
    {
      "cell_type": "code",
      "source": [
        "df['make'].unique()"
      ],
      "metadata": {
        "colab": {
          "base_uri": "https://localhost:8080/"
        },
        "id": "0awXB8gzCzBJ",
        "outputId": "18d6f934-7326-42c2-a853-99a044f3993c"
      },
      "execution_count": null,
      "outputs": [
        {
          "output_type": "execute_result",
          "data": {
            "text/plain": [
              "array(['Chevrolet', 'Chrysler', 'Cadillac', 'Volkswagen', 'Dodge',\n",
              "       'Mazda', 'Toyota', 'Mercury', 'Pontiac', 'BMW', 'Honda', 'Jeep',\n",
              "       'Lexus', 'Acura', 'GMC', 'Jaguar', 'Ford', 'Mercedes-Benz',\n",
              "       'Nissan', 'Subaru', 'Porsche', 'Buick', 'Infiniti', 'Audi', 'Kia',\n",
              "       'Saturn', 'Volvo', 'Hummer', 'Mitsubishi', 'Suzuki', 'Hyundai',\n",
              "       'Lincoln', 'Land Rover', 'Mini', 'Smart', 'Scion', 'Fiat', 'Ram',\n",
              "       'Tesla', 'Maserati', 'Alfa Romeo', 'Genesis', 'Polestar', 'Fisker',\n",
              "       'Rivian'], dtype=object)"
            ]
          },
          "metadata": {},
          "execution_count": 24
        }
      ]
    },
    {
      "cell_type": "code",
      "source": [
        "df['model'].isnull().sum()"
      ],
      "metadata": {
        "colab": {
          "base_uri": "https://localhost:8080/"
        },
        "id": "_yAmjltJC4y-",
        "outputId": "94c0ecea-d326-4512-de6b-207a6586ec72"
      },
      "execution_count": null,
      "outputs": [
        {
          "output_type": "execute_result",
          "data": {
            "text/plain": [
              "0"
            ]
          },
          "metadata": {},
          "execution_count": 25
        }
      ]
    },
    {
      "cell_type": "code",
      "source": [
        "a = range(df.shape[0])\n",
        "(df['model'][a] == 0).sum()"
      ],
      "metadata": {
        "colab": {
          "base_uri": "https://localhost:8080/"
        },
        "id": "aVoBhKV9DKdJ",
        "outputId": "6efb1cdc-d904-4830-bc4e-d7de46c2348a"
      },
      "execution_count": null,
      "outputs": [
        {
          "output_type": "execute_result",
          "data": {
            "text/plain": [
              "0"
            ]
          },
          "metadata": {},
          "execution_count": 26
        }
      ]
    },
    {
      "cell_type": "code",
      "source": [
        "a"
      ],
      "metadata": {
        "colab": {
          "base_uri": "https://localhost:8080/"
        },
        "id": "_fOWCERDE1hh",
        "outputId": "2a4899cc-882a-4a94-c009-5006597bf950"
      },
      "execution_count": null,
      "outputs": [
        {
          "output_type": "execute_result",
          "data": {
            "text/plain": [
              "range(0, 145114)"
            ]
          },
          "metadata": {},
          "execution_count": 27
        }
      ]
    },
    {
      "cell_type": "code",
      "source": [
        "a = np.array(df['model'].unique())"
      ],
      "metadata": {
        "id": "MsG6J-5lDM3o"
      },
      "execution_count": null,
      "outputs": []
    },
    {
      "cell_type": "code",
      "source": [
        "import time\n",
        "for i in a:\n",
        "    print(i)\n",
        "    time.sleep(5)"
      ],
      "metadata": {
        "colab": {
          "base_uri": "https://localhost:8080/",
          "height": 258
        },
        "id": "H0YKcdjMEl_M",
        "outputId": "c933549c-a9f7-48e1-c97d-46f79510dc12"
      },
      "execution_count": null,
      "outputs": [
        {
          "output_type": "stream",
          "name": "stdout",
          "text": [
            "Camaro\n",
            "Fifth Avenue\n",
            "DeVille\n",
            "Cabriolet\n",
            "Ram 150\n"
          ]
        },
        {
          "output_type": "error",
          "ename": "KeyboardInterrupt",
          "evalue": "",
          "traceback": [
            "\u001b[0;31m---------------------------------------------------------------------------\u001b[0m",
            "\u001b[0;31mKeyboardInterrupt\u001b[0m                         Traceback (most recent call last)",
            "\u001b[0;32m<ipython-input-29-8478a3339c17>\u001b[0m in \u001b[0;36m<cell line: 0>\u001b[0;34m()\u001b[0m\n\u001b[1;32m      2\u001b[0m \u001b[0;32mfor\u001b[0m \u001b[0mi\u001b[0m \u001b[0;32min\u001b[0m \u001b[0ma\u001b[0m\u001b[0;34m:\u001b[0m\u001b[0;34m\u001b[0m\u001b[0;34m\u001b[0m\u001b[0m\n\u001b[1;32m      3\u001b[0m     \u001b[0mprint\u001b[0m\u001b[0;34m(\u001b[0m\u001b[0mi\u001b[0m\u001b[0;34m)\u001b[0m\u001b[0;34m\u001b[0m\u001b[0;34m\u001b[0m\u001b[0m\n\u001b[0;32m----> 4\u001b[0;31m     \u001b[0mtime\u001b[0m\u001b[0;34m.\u001b[0m\u001b[0msleep\u001b[0m\u001b[0;34m(\u001b[0m\u001b[0;36m5\u001b[0m\u001b[0;34m)\u001b[0m\u001b[0;34m\u001b[0m\u001b[0;34m\u001b[0m\u001b[0m\n\u001b[0m",
            "\u001b[0;31mKeyboardInterrupt\u001b[0m: "
          ]
        }
      ]
    },
    {
      "cell_type": "code",
      "source": [
        "df['series'].isnull().sum()"
      ],
      "metadata": {
        "colab": {
          "base_uri": "https://localhost:8080/"
        },
        "id": "2-dkO5HoDSkM",
        "outputId": "308ad2cf-8a2c-4f5a-8080-f6b4642aa5c2"
      },
      "execution_count": null,
      "outputs": [
        {
          "output_type": "execute_result",
          "data": {
            "text/plain": [
              "825"
            ]
          },
          "metadata": {},
          "execution_count": 30
        }
      ]
    },
    {
      "cell_type": "code",
      "source": [
        "df['series'].unique()"
      ],
      "metadata": {
        "colab": {
          "base_uri": "https://localhost:8080/"
        },
        "id": "hlfD1ZwjDoz_",
        "outputId": "b395409b-3e39-4c4a-ae89-bba22d47ad0a"
      },
      "execution_count": null,
      "outputs": [
        {
          "output_type": "execute_result",
          "data": {
            "text/plain": [
              "array(['Iroc Z28', nan, 'Z28', ..., 'B6 - Plus', 'B6 - Ultimate',\n",
              "       'Recharge Ultimate 6P'], dtype=object)"
            ]
          },
          "metadata": {},
          "execution_count": 31
        }
      ]
    },
    {
      "cell_type": "code",
      "source": [
        "df['series'] = df['series'].fillna(df['series'].mode()[0])"
      ],
      "metadata": {
        "id": "IsQhPzaDDt5y"
      },
      "execution_count": null,
      "outputs": []
    },
    {
      "cell_type": "code",
      "source": [
        "df['series'].isnull().sum()"
      ],
      "metadata": {
        "colab": {
          "base_uri": "https://localhost:8080/"
        },
        "id": "Tbwf6YYTD_QS",
        "outputId": "8cd23dd2-80da-4e30-cf51-339be698ebca"
      },
      "execution_count": null,
      "outputs": [
        {
          "output_type": "execute_result",
          "data": {
            "text/plain": [
              "0"
            ]
          },
          "metadata": {},
          "execution_count": 33
        }
      ]
    },
    {
      "cell_type": "code",
      "source": [
        "df['style'].isnull().sum()"
      ],
      "metadata": {
        "colab": {
          "base_uri": "https://localhost:8080/"
        },
        "id": "e_UJLGaZEDpi",
        "outputId": "414997fa-bd9b-454d-a0d4-d6f136aeb2c9"
      },
      "execution_count": null,
      "outputs": [
        {
          "output_type": "execute_result",
          "data": {
            "text/plain": [
              "0"
            ]
          },
          "metadata": {},
          "execution_count": 34
        }
      ]
    },
    {
      "cell_type": "code",
      "source": [
        "df['style'].dtypes"
      ],
      "metadata": {
        "colab": {
          "base_uri": "https://localhost:8080/"
        },
        "id": "LjTt1F1oEN9t",
        "outputId": "1dcc11b9-7449-4d2d-febd-0f6deab3aff3"
      },
      "execution_count": null,
      "outputs": [
        {
          "output_type": "execute_result",
          "data": {
            "text/plain": [
              "dtype('O')"
            ]
          },
          "metadata": {},
          "execution_count": 35
        }
      ]
    },
    {
      "cell_type": "code",
      "source": [
        "a = range(df.shape[0])\n",
        "(df['style'][a] == 0).sum()"
      ],
      "metadata": {
        "colab": {
          "base_uri": "https://localhost:8080/"
        },
        "id": "vcer2HY4FLqk",
        "outputId": "4d377e9a-8ee8-4473-eee4-eb61cd70fead"
      },
      "execution_count": null,
      "outputs": [
        {
          "output_type": "execute_result",
          "data": {
            "text/plain": [
              "0"
            ]
          },
          "metadata": {},
          "execution_count": 36
        }
      ]
    },
    {
      "cell_type": "code",
      "source": [
        "df['wheelbase_from_vin'].isnull().sum()"
      ],
      "metadata": {
        "colab": {
          "base_uri": "https://localhost:8080/"
        },
        "id": "1q1fCiZIFdAA",
        "outputId": "791245d1-1193-4294-b05c-12def411d194"
      },
      "execution_count": null,
      "outputs": [
        {
          "output_type": "execute_result",
          "data": {
            "text/plain": [
              "0"
            ]
          },
          "metadata": {},
          "execution_count": 37
        }
      ]
    },
    {
      "cell_type": "code",
      "source": [
        "df['wheelbase_from_vin'].unique()"
      ],
      "metadata": {
        "colab": {
          "base_uri": "https://localhost:8080/"
        },
        "id": "eJjUkXbXHbqX",
        "outputId": "5955a6b6-0562-4c91-c839-148046c1ba4e"
      },
      "execution_count": null,
      "outputs": [
        {
          "output_type": "execute_result",
          "data": {
            "text/plain": [
              "array([   0. ,   93.5,  118. ,  142. ,  168. ,  101.4,  112. ,  107. ,\n",
              "         86.6,  111. ,   99.4,  138. ,  130. ,  103. ,  131.5,  105.9,\n",
              "        155. ,  157.6,  143.5,  133. ,  131. ,  125.8,  106.3,   98. ,\n",
              "        103.1,   95.6,  107.4,  111.5,  101.1,  119.3,  138.7,  154.7,\n",
              "        107.2,  113. ,  153. ,  106.7,  104.3,   94.9,  106.9,  121.5,\n",
              "        108.3,  102.4,   93.4,  108.5,  107.5,  104.6,  122.9,  108. ,\n",
              "        140.5,  160.5,  156.2,  101.3,  105.1,  118.2,  122.8,  111.6,\n",
              "        102.8,  100.8,  103.7,  104.4,  131.1,  111.3,  110.5,  104.1,\n",
              "         99.5,   86.7,  109.9,   98.1,  108.1,  107.3,  110. ,  112.2,\n",
              "        119. ,  116. ,  120.5,  113.8,  125.9,  139. ,  172.4,  121. ,\n",
              "        114.5,  118.8,  103.9,  105.3,  112.4,  110.3,  123.2,  131.2,\n",
              "         92.5,   95.2,  103.2,  114.3,   98.9,  108.4,  115.3,  105.7,\n",
              "        100.5,  135. ,  121.1,  116.3,  145. ,  112.9,  106.4,  113.6,\n",
              "         94.5,  103.3,  126. ,  106.6,   97.6,  113.4,  112.5,  131.3,\n",
              "        160.3,  138.5,  141.8,  107.9,  118.1,  122. ,  111.9,  109.5,\n",
              "        104.2,  114.7,  139.8,  115.5,  167. ,  119.2,  111.2,  144.5,\n",
              "        118.9,  133.9,  157.5, 2450. ,  103.5,  110.4,   95.4,  108.7,\n",
              "        109.3, 2852. , 2415. ,  109.6,  145.6,  164.5,  110.1,  108.9,\n",
              "        108.8,  130.5,  110.2, 2700. ,  114.6, 2728. , 2875. , 2778. ,\n",
              "        108.2,  112.6, 2775. , 2705. , 2578. , 2650. , 2760. , 2761. ,\n",
              "       2888. , 2480. , 2623. , 2685. , 2858. , 3645. , 3886. , 3019. ,\n",
              "       2870. , 3077. , 3048. , 3027. , 3078. , 2765. , 2635. , 2946. ,\n",
              "       2890. , 3569.2, 4077. , 3505. , 2824. , 2619. , 3315. ,  157. ,\n",
              "        172. , 2994. , 2614. , 2725. , 2720. , 3192. , 2868. , 3021. ,\n",
              "       3401. , 3302. , 2800. , 2740. , 2620. , 2500. , 3000. , 3100. ,\n",
              "       2730. , 2630. , 2850. , 3130. , 2781. , 2694. , 2610. , 2715. ,\n",
              "       2640. , 2750. , 2790. , 3165. , 2560. , 2467. , 2547. , 2575. ,\n",
              "       2365. , 2670. , 2550. , 2776. , 2530. , 3200. , 2825. , 2690. ,\n",
              "       3550. , 2600. , 2601. , 2350. , 1867. , 2615. , 2625. , 2660. ,\n",
              "       3246. , 3570. , 3700. , 2511. , 2598. , 2604. , 2808. , 2468. ,\n",
              "       3070. , 2795. , 2993. , 3023. , 2936. , 2807. , 2385. , 2857. ,\n",
              "       3429. , 2763. , 3785. , 3987. , 3683. , 3962. , 3967. , 4242. ,\n",
              "       2797. , 2885. , 2423. , 2745. , 2970. , 2995. , 3018. , 3197. ,\n",
              "       2874. , 3075. , 2755. , 2915. , 2675. , 2855. , 3030. , 2709. ,\n",
              "       2774. , 2751. , 2843. , 2819. , 2968. , 2810. , 2496. , 2837. ,\n",
              "       2738. , 2880. , 3937. , 3378. , 4001. , 4259. , 4017. , 3904. ,\n",
              "       3020. , 3052. , 3335.3, 3042. , 3569. , 4292. , 4293. , 2860. ,\n",
              "       4140. , 4379. , 4013. , 3606. , 4369. , 2489. , 3662. , 2999. ,\n",
              "       2948. , 3050. , 2820. , 2651. , 2419. , 2809. , 2030. , 3940. ,\n",
              "       3434. , 2525. , 2300. , 3327. , 2649. , 2912. , 2435. , 2570. ,\n",
              "       2935. , 2805. , 2743. , 2424. , 2955. , 2854. , 2595. , 3061.2,\n",
              "       2780. , 3235. , 2535. , 2710. , 2804. , 2992. , 3002. , 3210. ,\n",
              "       2555. , 2727. , 2375. , 2703. , 2908. , 2909. , 2330. , 2699. ,\n",
              "       2585. , 3655. , 3710. , 2900. , 2475. , 4064. , 2645. , 2960. ,\n",
              "       2510. , 2265. , 2920. , 2964. , 2911. , 2891. , 2612. , 3976. ,\n",
              "       3671. , 3198. , 4143. , 3063. , 2622. , 2923. , 2998. , 2830. ,\n",
              "       3665. , 4325. , 2596. , 3554. , 2706. , 3061. , 4038. , 2537. ,\n",
              "       2380. , 2637. , 2603. , 2811. , 2813. , 2926. , 3259. , 3663. ,\n",
              "       4016. , 4260. , 2742. , 2950. , 3053. , 2849. , 4158. , 3983. ,\n",
              "       3602. , 3759. , 3010. , 3032. , 3060. , 2741. , 3963. , 2840. ,\n",
              "       2945. , 2430. , 2495. , 2925. , 2895. , 3794. , 3109. , 2631. ,\n",
              "       2803. , 2893. , 2545. , 2933. , 2812. , 2866. , 3607. , 2648. ,\n",
              "       2922. , 2930. , 2309. , 2873. , 3035. , 3850. , 2456. , 2484. ,\n",
              "       3797. , 3556. , 4290. , 4074. , 4300. , 3571. , 2540. , 2984. ,\n",
              "       2975. , 2695. , 3089. , 3950. , 3022. , 4470. , 3480. , 4059. ,\n",
              "       3300. , 3750. , 3062. , 3180. , 2835. , 2636. , 3120. , 2997. ,\n",
              "       3004. , 2698. , 2939. , 2567. , 2845. , 2647. , 3551. , 2711. ,\n",
              "       2629. , 2941. , 2818. , 2230. , 2764. , 2766. , 2320. , 2504. ,\n",
              "       4936. , 2982. , 2669. , 2455. , 3264. , 3071. , 2519. , 3584. ,\n",
              "       4166. , 3160. , 2580. , 2681. , 2459. , 2905. , 3125. , 3112. ,\n",
              "       3342. ,  283. , 1234. , 3430. , 2457. , 3454. , 2665. , 4180. ,\n",
              "       2979. , 2543. , 2794. , 2865. , 3127. , 2680. , 2929. , 2692. ,\n",
              "       2851. , 2981. , 2822. , 3104. , 2470. , 2779. , 2863. , 3745. ,\n",
              "       2520. , 4170. , 3596. , 4770. , 3220. , 2867. , 2817. , 3076. ,\n",
              "       2990. , 3157. , 2914. , 3008. , 2460. , 2689. , 2726. , 2729. ,\n",
              "       2951. , 3658. , 2453. , 3792. , 2959. , 2842. , 2541. , 2686. ,\n",
              "       2872. , 2985. , 2652. , 2996. , 2693. , 3123. , 2827. , 2723. ,\n",
              "       3433. , 3941. , 3545. , 3795. , 4037. , 4127. , 3595. , 3084. ,\n",
              "       3025. , 2717. , 2661. , 2707. , 3487. , 2789. , 3135. , 4318. ,\n",
              "       2713. , 2901. , 2642. , 2469. , 3099. , 3236. , 3572. , 3701. ,\n",
              "       2702. , 2826. , 2904. , 2928. , 2974. , 2864. , 3406. , 3989. ,\n",
              "       2639. , 3988. , 3221. , 3178. , 3091. , 2815. , 2829. , 2646. ,\n",
              "       2712. , 1374. , 2735. , 3672. , 3898. , 4039. , 2841. , 2980. ,\n",
              "       2924. , 3129. , 2505. , 2921. , 2898. , 2972. , 3105. , 2856. ,\n",
              "       3072. , 3213. , 3747. , 3581. , 3696. , 3005. , 2799. , 2913. ,\n",
              "       3124. , 3090. , 2871. , 2653. , 3216. , 2708. , 3686. , 4006. ,\n",
              "       2736. , 3215. , 2747. , 3338. , 2722. , 3748. , 2719. , 3445. ,\n",
              "       2701. , 2655. , 3303. , 2587. , 3171. , 2839. , 3119.1, 3211. ,\n",
              "       2482. , 3560. , 3449. , 2965. , 3234. , 3699. , 3094. , 2947. ,\n",
              "       3337. , 2954. , 3746. , 2322. , 3994. , 3694. , 3594. , 3251.2,\n",
              "       4547. , 4267. , 3218. , 1626. , 3170. , 2961. , 3119. , 3134. ,\n",
              "       3898.9, 3670.3, 5014. , 4280. , 3075.9, 3685. , 3350. , 4179. ,\n",
              "       2791. , 2702.6, 2984.5])"
            ]
          },
          "metadata": {},
          "execution_count": 38
        }
      ]
    },
    {
      "cell_type": "code",
      "source": [
        "a = range(df.shape[0])\n",
        "sum = 0\n",
        "(df['wheelbase_from_vin'][a] <= 50)\n",
        "sum += 1"
      ],
      "metadata": {
        "id": "GDU97e-hHeWs"
      },
      "execution_count": null,
      "outputs": []
    },
    {
      "cell_type": "code",
      "source": [
        "sum"
      ],
      "metadata": {
        "colab": {
          "base_uri": "https://localhost:8080/"
        },
        "id": "XDAT9iPvIc5V",
        "outputId": "c059cc10-1d2e-45f4-e8a6-c11f5e71f07b"
      },
      "execution_count": null,
      "outputs": [
        {
          "output_type": "execute_result",
          "data": {
            "text/plain": [
              "1"
            ]
          },
          "metadata": {},
          "execution_count": 40
        }
      ]
    },
    {
      "cell_type": "code",
      "source": [
        "import matplotlib.pyplot as plt\n",
        "plt.hist(df['wheelbase_from_vin'],bins = 50,edgecolor = 'black')\n",
        "plt.show()"
      ],
      "metadata": {
        "colab": {
          "base_uri": "https://localhost:8080/",
          "height": 430
        },
        "id": "Dl183V-RId3_",
        "outputId": "7d831c53-c77f-44b0-ab55-f829bd59d1c2"
      },
      "execution_count": null,
      "outputs": [
        {
          "output_type": "display_data",
          "data": {
            "text/plain": [
              "<Figure size 640x480 with 1 Axes>"
            ],
            "image/png": "[encoded data removed]"
          },
          "metadata": {}
        }
      ]
    },
    {
      "cell_type": "code",
      "source": [
        "df['drivetrain_from_vin'].isnull().sum()"
      ],
      "metadata": {
        "colab": {
          "base_uri": "https://localhost:8080/"
        },
        "id": "GiMaSUAIIrw9",
        "outputId": "c1bac914-374c-4605-e0ec-1cf70ea9aa62"
      },
      "execution_count": null,
      "outputs": [
        {
          "output_type": "execute_result",
          "data": {
            "text/plain": [
              "0"
            ]
          },
          "metadata": {},
          "execution_count": 42
        }
      ]
    },
    {
      "cell_type": "code",
      "source": [
        "df['drivetrain_from_vin'].unique()"
      ],
      "metadata": {
        "colab": {
          "base_uri": "https://localhost:8080/"
        },
        "id": "g5PUp7GMJgtP",
        "outputId": "004826dc-a0dc-4634-dec1-7c9fbe2836c2"
      },
      "execution_count": null,
      "outputs": [
        {
          "output_type": "execute_result",
          "data": {
            "text/plain": [
              "array(['RWD', 'FWD', '4WD', 'AWD'], dtype=object)"
            ]
          },
          "metadata": {},
          "execution_count": 43
        }
      ]
    },
    {
      "cell_type": "code",
      "source": [
        "df['engine_from_vin'].isnull().sum()"
      ],
      "metadata": {
        "colab": {
          "base_uri": "https://localhost:8080/"
        },
        "id": "Lw-33QhKJiXH",
        "outputId": "f1ba9f1c-fdc8-4071-f278-209f0b21e4a8"
      },
      "execution_count": null,
      "outputs": [
        {
          "output_type": "execute_result",
          "data": {
            "text/plain": [
              "0"
            ]
          },
          "metadata": {},
          "execution_count": 44
        }
      ]
    },
    {
      "cell_type": "code",
      "source": [
        "df['engine_from_vin'].unique()"
      ],
      "metadata": {
        "colab": {
          "base_uri": "https://localhost:8080/"
        },
        "id": "dnwzAND1JrwH",
        "outputId": "cbe0b493-b0ef-4a2b-87fb-0d5ffd72ad57"
      },
      "execution_count": null,
      "outputs": [
        {
          "output_type": "execute_result",
          "data": {
            "text/plain": [
              "array(['5.7L V8 TBI ', '5.2L V8 ', '4.5L V8 DI ', '1.8L I-4 MPI ',\n",
              "       '5.2L V8 MPI ', '1.6L I-4 MPI ', '5.0L V8 EFI HO ', '5.7L V8 MFI',\n",
              "       '3.0L V6 MPI ', '2.5L I-6 EFI DOHC ', '4.6L V8 MPI ',\n",
              "       '2.5L I-4 MPI ', '3.0L V6 SFI ', '3.0L V6 EFI DOHC ',\n",
              "       '5.7L V8 TBI CNG ', '1.9L I-4 EFI DOHC ', '6.5L V8 FI TDSL HO',\n",
              "       '5.7L V8 SFI ', '4.0L I-6 EFI DOHC S/C ', '4.0L I-6 MPI ',\n",
              "       '1.5L I-4 EFI ', '2.8L I-6 EFI DOHC ', '5.7L V8 MPI ',\n",
              "       '4.0L V6 EFI ', '4.3L V6 CPI ', '2.0L I-4 EFI DOHC ',\n",
              "       '2.3L I-4 EFI ', '3.0L V6 EFI ', '2.3L I-4 EFI DOHC ',\n",
              "       '2.5L H-4 MPI SOHC ', '4.2L V6 EFI OHV ', '5.7L V8 SFI CNG ',\n",
              "       '3.0L V6 EFI QOHC ', '3.3L H-6 FI T/C ', '3.8L V6 MPI ',\n",
              "       '3.5L V6 MPI HO ', '7.3L V8 DI DSL T/C ', '3.8L V6 EFI ',\n",
              "       '4.7L V8 SFI SOHC ', '3.2L V6 EFI SOHC ', '2.7L H-6 MPI ',\n",
              "       '2.2L I-4 EFI ', '2.0L I-4 EFI SOHC ', '3.0L I-6 EFI DOHC ',\n",
              "       '5.3L V8 SFI ', '6.0L V8 SFI ', '6.6L V8 DI DSL T/C ',\n",
              "       '4.7L V8 MPI ', '4.0L V6 EFI SOHC ', '4.6L V8 EFI SOHC ',\n",
              "       '4.8L V8 SFI ', '3.5L V6 MPI DOHC ', '1.7L I-4 MPI ',\n",
              "       '3.5L V6 SOHC ', '1.8L I-4 SFI DOHC T/C ', '3.3L V6 SFI ',\n",
              "       '5.9L I-6 FI DSL T/C ', '5.9L I-6 FI DSL T/C HO ',\n",
              "       '3.9L V8 EFI DOHC ', '4.2L I-6 MPI DOHC ', '6.0L V8 MPI ',\n",
              "       '3.7L V6 MPI ', '1.5L I-4 MPI DOHC ', '5.5L V8 MPI SOHC ',\n",
              "       '3.4L V6 SFI ', '1.9L I-4 SFI DOHC ', '2.2L I-4 EFI DOHC ',\n",
              "       '1.5L I-4 EFI DOHC ', '2.4L I-5 EFI DOHC T/C I/C', '3.2L I-6 MPI ',\n",
              "       '4.3L V6 MPI', '2.7L V6 MPI DOHC ', '6.0L V8 DI DSL T/C ',\n",
              "       '6.0L V8 SFI OHV ', '3.0L V6 EFI SOHC ', '1.7L I-4 MPI SOHC ',\n",
              "       '3.5L V6 MPI SOHC VTEC ', '2.5L V6 EFI ', '2.3L I-4 MPI SOHC ',\n",
              "       '2.0L I-4 MPI DOHC ', '2.6L V6 EFI SOHC ', '5.4L V8 EFI SOHC ',\n",
              "       '2.4L I-4 EFI SOHC ', '3.3L V6 EFI SOHC S/C ', '3.3L V6 EFI SOHC ',\n",
              "       '3.4L V6 MPI HO ', '3.8L V6 MFI', '2.2L I-4 MPI DOHC ',\n",
              "       '3.4L V6 EFI DOHC ', '4.7L V8 EFI DOHC ', '1.8L I-4 EFI DOHC ',\n",
              "       '3.2L V6 EFI DOHC ', '2.5L I-6 EFI SOHC ', '3.4L V6 MFI',\n",
              "       '2.2L I-4 SFI DOHC', '3.5L I-5 MPI DOHC ', '3.8L V6 SFI ',\n",
              "       '5.7L V8 SFI Hemi ', '8.3L V10 SFI ', '4.0L V6 EFI SOHC Flex ',\n",
              "       '6.0L V8 FI TDsl', '2.0L I-4 SPI ', '4.2L V6 SPI ', '3.9L V6 EFI ',\n",
              "       '2.4L I-4 MPI DOHC ', '5.4L V8 EFI DOHC ', '3.0L V6 MPI DOHC ',\n",
              "       '5.0L V8 EFI SOHC ', '2.5L I-4 MPI DOHC ', '5.6L V8 MPI DOHC ',\n",
              "       '3.6L H-6 MPI ', '2.2L I-4 EFI DOHC', '2.5L H-4 EFI ',\n",
              "       '3.3L V6 MPI DOHC ', '2.0L I-4 MPI SOHC ', '4.2L V8 SFI DOHC ',\n",
              "       '4.4L V8 EFI DOHC ', '4.6L V8 SFI DOHC ', '5.3L V8 MPI ',\n",
              "       '5.3L V8 SFI Flex ', '3.5L V6 SFI ', '3.2L V6 MPI SOHC ',\n",
              "       '2.4L I-4 SFI DOHC ', '3.5L V6 MPI ', '3.0L V6 SFI DOHC ',\n",
              "       '4.0L V6 SOHC 2V ', '4.6L V8 EFI ', '4.8L V8 MPI ',\n",
              "       '5.3L V8 SFI OHV ', '4.5L V8 MPI DOHC ', '4.4L V8 SFI ',\n",
              "       '3.7L V6 MPI SOHC ', '3.5L V6 DOHC 24V ', '4.0L V6 MPI DOHC ',\n",
              "       '2.5L H-4 EFI SOHC ', '2.5L H-4 MPI DOHC ', '1.6L I-4 EFI DOHC ',\n",
              "       '3.3L V6 SFI DOHC ', '1.9L I-4 EFI DSL T/C ', '3.5L V6 EFI SOHC ',\n",
              "       '2.0L I-4 FSI DOHC T/C ', '4.8L V8 EFI DOHC ', '4.8L V8 MPI DOHC',\n",
              "       '4.6L V8 Northstar', '1.6L I-4 MPI DOHC', '7.0L V8 SFI ',\n",
              "       '6.6L V8 DI OHV TDsl HO', '6.1L V8 SFI SRT Hemi ',\n",
              "       '5.7L V8 MDI Hemi', '4.6L V8 SFI SOHC ', '5.4L V8 EFI SOHC 3V ',\n",
              "       '2.0L I-4 SFI DOHC ', '3.0L V6 MPI SOHC Hybrid',\n",
              "       '1.8L I-4 MPI SOHC ', '3.5L I-5 SFI', '3.8L V6 MPI DOHC ',\n",
              "       '2.7L I-6 DOHC ', '2.8L I-4 FI DSL T/C ', '4.3L V8 MPI DOHC ',\n",
              "       '2.3L I-4 ', '3.5L V6 SFI DOHC ', '1.6L I-4 EFI OHC S/C ',\n",
              "       '2.5L I-4 EFI DOHC ', '2.4L I-4 MPI ', '3.6L H-6 EFI ',\n",
              "       '4.5L V8 MPI ', '4.0L V6 EFI DOHC ', '3.5L V6 EFI DOHC ',\n",
              "       '1.8L I-4 EFI DOHC VVT-i ', '2.5L I-5 MPI ',\n",
              "       '1.9L I-4 FI SOHC DSL T/C ', '2.5L I-5 EFI DOHC T/C I/C',\n",
              "       '3.7L V6 EFI SOHC VVT', '2.3L I-4 MPI DOHC T/C', '4.2L V8 MPI ',\n",
              "       '3.6L V6 FSI', '3.6L V6 SFI ', '4.4L V8 MPI DOHC S/C ',\n",
              "       '3.7L I-5 MPI DOHC', '2.4L I-4 EFI DOHC VVT', '4.7L V8 EFI Flex ',\n",
              "       '5.7L V8 SFI Hemi Magnum ', '3.5L V6 SFI DOHC 24V',\n",
              "       '5.4L V8 SOHC Flex', '5.4L V8 EFI SOHC S/C ',\n",
              "       '6.2L V8 SFI OHV HO ', '1.5L I-4 MPI SOHC VTEC',\n",
              "       '4.2L V8 EFI DOHC ', '4.2L V8 EFI DOHC S/C ', '3.0L V6 CDI DSL',\n",
              "       '2.4L I-4 Dual VVT', '5.4L V8 EFI ', '2.3L I-4 DOHC T/C ',\n",
              "       '2.3L I-4 MPI DOHC ', '2.0L I-4 EFI Turbo', '6.3L V8 SFI DOHC',\n",
              "       '4.6L V8 SFI DOHC', '3.0L V6 CDI DOHC TDsl 24V',\n",
              "       '3.8L V6 MPI SOHC ', '3.9L V6 SFI ', '2.4L I-4 EFI DOHC ',\n",
              "       '1.8L I-4 SFI DOHC ', '2.0L I-4 EFI T/C ', '3.5L V6 MPI SOHC ',\n",
              "       '3.0L H-6 EFI DOHC ', '2.5L H-4 EFI DOHC ', '3.6L V6 MPI DOHC',\n",
              "       '2.4L I-4 EFI DOHC Hybrid', '1.5L I-4 MPI ', '2.5L I-4 MPI SOHC ',\n",
              "       '3.0L I-6 MPI ', '3.2L V6 DOHC ', '4.2L V8 DI DOHC',\n",
              "       '3.2L V6 FSI DOHC ', '3.0L I-6 DI DOHC T/C', '5.0L V10 OHC ',\n",
              "       '3.0L I-6 DI DOHC', '3.6L V6 DI DOHC', '6.2L V8 SFI OHV',\n",
              "       '2.2L I-4 SFI ', '3.9L V6 SFI Flex', '3.3L V6 EFI ', '4.0L V6 SFI',\n",
              "       '6.7L I-6 FI TDsl HO', '6.4L V8 FI DSL', '6.8L V10 EFI SOHC ',\n",
              "       '6.2L V8 SFI', '3.0L V6 DI TDsl', '3.3L V6 MPI DOHC',\n",
              "       '3.3L V6 MPI DOHC Hybrid', '3.7L V6 MPI DOHC 24V', '2.0L I-4 EFI ',\n",
              "       '4.0L V6 MPI ', '1.6L I-4 EFI OHC ', '2.4L I-4 MPI SOHC ',\n",
              "       '2.2L I-4 MPI ', '2.0L I-4 MPI ', '2.0L I-4 FI T/C ',\n",
              "       '1.0L I-3 MPI', '3.6L H-6 MPI DOHC', '2.7L V6 MPI ',\n",
              "       '3.3L V6 EFI DOHC Hybrid', '2.4L I-4 EFI ', '3.6L V6 MPI DOHC ',\n",
              "       '2.8L I-6 EFI DOHC 2-T/C ', '3.2L I-6 MPI', '4.4L V8 ',\n",
              "       '3.7L V6 PGM-FI SOHC VTEC', '2.3L I-4 MPI DOHC',\n",
              "       '4.0L V8 EFI DOHC ', '6.2L V8 SFI OHV S/C', '5.7L V8 SFI Hemi MDI',\n",
              "       '2.5L I-4 SMPI DOHC Hyb ', '1.6L I-4 MPI DOHC ',\n",
              "       '3.7L V6 SMPI DOHC CVTCS', '3.7L V6 SFI DOHC',\n",
              "       '2.5L I-4 MPI DOHC VVT', '2.5L V6 EFI DOHC ', '6.2L V8 MPI DOHC',\n",
              "       '5.5L V8 SFI SOHC ', '1.6L I-4 DI OHC T/C',\n",
              "       '3.7L V6 SFI DOHC CVTCS', '1.8L I-4 SIDI DOHC VVT',\n",
              "       '2.4L I-4 SIDI DOHC VVT', '3.8L H-6 EFI ',\n",
              "       '2.5L H-4 MPI SOHC T/C ', '2.4L I-4 EFI DOHC VVT-i',\n",
              "       '1.5L I4 EFI DOHC Hyb Elec', '2.5L I-4 SFI VVT-i',\n",
              "       '2.7L I-4 SFI DOHC ', '2.0L I-4 MPI SOHC DSL T/C', '2.0L I-4 MFI',\n",
              "       '2.0L I-4 DI DOHC T/C', '3.2L V6 DI DOHC', '3.0L V6 DI DOHC TDsl',\n",
              "       '4.4L V8 DI DOHC ', '4.6L V8 MPI DOHC ', '6.2L V8 SFI OHV Flex',\n",
              "       '2.8L V6 SFI DOHC T/C', '3.0L V6 SIDI DOHC VVT',\n",
              "       '2.2L I-4 SFI DOHC VVT', '3.0L V6 DI DOHC', '2.4L I-4 DI DOHC VVT',\n",
              "       '2.4L I-4 DI DOHC T/C', '6.0L V8 SFI Flex',\n",
              "       '2.4L I-4 SFI DOHC Flex', '6.0L V8 SFI LIVC Hybrid',\n",
              "       '3.5L V6 DI T/C Ecoboost', '2.0L I-4 SMPI DOHC',\n",
              "       '3.0L V6 SMPI DOHC', '3.5L V6 EFI DOHC', '2.5L I-4 SMPI DOHC',\n",
              "       '2.5L I4 EFI DOHC Hyb Elec', '5.4L V8 EFI DOHC S/C',\n",
              "       '4.3L V8 MPI ', '5.0 V8 MPI DOHC', '5.0L V8 DI S/C',\n",
              "       '4.6L V8 DI DOHC VVT-iE', '5.0L V8 DI DOHC 32V', '2.5L V6 MPI ',\n",
              "       '2.5L V6 SFI DOHC VVT-i', '3.5L V6 SFI DOHC Hybrid',\n",
              "       '3.5L V6 DI Ecoboost', '3.5L V6 SMPI DOHC',\n",
              "       '5.4L V8 SMPI SOHC Flex', '2.5L I-4 EFI DOHC', '4.7L V8 SFI DOHC',\n",
              "       '4.8L V8 DI', '1.8L I-4 SFI DOHC VVT-i',\n",
              "       '1.8L I-4 SMPI DOHC VVT-i', '2.4L I-4 SMPI DOHC VVT-i',\n",
              "       '1.8L I-4 EFI DOHC Hybrid', '3.5L V6 SMPI DOHC VVT-i',\n",
              "       '4.0L V6 SMPI VVT-i', '5.7L V8 SMPI DOHC VVT-i',\n",
              "       '2.7L I-4 SMPI DOHC VVT-i', '2.5L I-5 SMPI DOHC',\n",
              "       '4.0L V6 SFI SOHC 24V', '3.0L I-6 MPI DOHC 2-T/C',\n",
              "       '2.3L I-4 PGM-FI DOHC T/C', '3.5L V6 PGM-FI SOHC VTEC',\n",
              "       '3.0L V6 DI DOHC T/C', '4.4L V8 DI DOHC T/C ',\n",
              "       '3.0L I-6 EFI DOHC DSL 24V', '3.6L V6 SIDI DOHC VVT',\n",
              "       '2.8L V6 SFI DOHC T/C HO', '2.9L I-4 MPI DOHC',\n",
              "       '1.4L I-4 MFI DOHC T/C', '1.8L I-4 MFI DOHC',\n",
              "       '3.0L V6 DI DOHC Flex', '3.5L V6 SFI Flex ',\n",
              "       '2.4L I-4 MPI DOHC Flex HO', '4.8L V8 SFI DOHC Flex',\n",
              "       '3.6L V6 SMPI DOHC VVT', '2.4L I-4 SMPI DOHC VVT',\n",
              "       '2.0L I-4 SMPI DOHC VVT', '6.4L V8 SMPI OHC SRT Hemi',\n",
              "       '3.6L V6 SMPI DOHC Flex', '4.6L V8 SMPI SOHC Flex',\n",
              "       '3.7L V6 SFI DOHC Ti-VCT', '3.5L V6 SFI DOHC Ti-VCT',\n",
              "       '5.0L V8 SMPI DOHC Flex', '6.2L V8 EFI SOHC Flex',\n",
              "       '6.7L V8 DI OHC TDsl', '1.6L I-4 SFI Ti-VCT',\n",
              "       '3.0L V6 SMPI DOHC Flex', '5.0L V8 SFI ',\n",
              "       '2.4L I-4 MPI DOHC i-VTEC', '1.5L I-4 MPI SOHC i-VTEC',\n",
              "       '1.8L I-4 MPI DOHC ', '3.7L V6 SFI SOHC', '3.8L V6 SMPI OHC',\n",
              "       '2.4L I-4 DI DOHC', '3.2L I-6 DI DOHC', '5.0L V8 DI',\n",
              "       '3.5L V6 DI DOHC VVT-i', '2.3L I-4 DI DOHC T/C',\n",
              "       '1.5L I-4 EFI DOHC', '3.5L V6 SFI DOHC', '5.5L V8 SFI DOHC',\n",
              "       '6.2L V8 SFI DOHC', '1.6L I-4 EFI OHC T/C',\n",
              "       '2.0L I-4 MPI DOHC MIVEC', '1.6L I-4 DI DOHC',\n",
              "       '4.0L V6 DI DOHC CVTCS', '2.5L I-4 SMPI VVT-i',\n",
              "       '2.5L H-4 MPI DOHC T/C HO', '2.5L H-4 MPI DOHC T/C',\n",
              "       '3.6L H-6 EFI DOHC', '2.4L I-4 MPI DOHC',\n",
              "       '3.5L V6 SMPI DOHC Hybrid', '2.0L I-4 FSI DOHC',\n",
              "       '2.5L I5 MPI DOHC CVVT T/C', '3.0L I-6 MPI DOHC T/C',\n",
              "       '3.2L I-6 EFI DOHC CVVT', '2.4L I-4 PGM-FI DOHC',\n",
              "       '2.0L I-4 DI VVT T/C', '2.4L I-4 SIDI DOHC Flex',\n",
              "       '3.6L V6 SIDI DOHC Flex', '6.2L V8 SFI OHV HO',\n",
              "       '1.8L I-4 MFI DOHC Flex', '2.4L I-4 DI DOHC VVT Flex',\n",
              "       '3.6L V6 SMPI DOHC VVT Flx', '1.4L I-4 SMPI SOHC',\n",
              "       '2.0L I-4 DI T/C Ecoboost', '3.7L V6 SFI DOHC Flex',\n",
              "       '2.0L I-4 DI Flex Ti-VCT', '5.0L V8 SFI HO ', '3.7L V6 SMPI DOHC',\n",
              "       '3.5L V6 DI DOHC T/C', '1.5L I-4 MPI SOHC Hybrid',\n",
              "       '1.6L I-4 DI DOHC CVVT', '3.8L V6 DI DOHC CVVT',\n",
              "       '2.4L I-4 DI DOHC CVVT', '5.0L V8 DI DOHC S/C',\n",
              "       '2.4L I-4 DI DOHC Hybrid', '1.8L I-4 DI DOHC Hybrid',\n",
              "       '1.8L I-4 DI DOHC T/C', '3.5L V6 DI DOHC', '4.6L V8 DI DOHC T/C',\n",
              "       '5.5L V8 DI T/C', '1.6L I-4 EFI DOHC', '1.6L I-4 EFI DOHC T/C',\n",
              "       '2.0L I-4 MPI DOHC T/C', '80kw Elect AC Sync',\n",
              "       '5.7L V8 MDS VVT Hemi', '4.7L V8 SMPI SOHC Flex',\n",
              "       '3.6L V6 MPI DOHC VVT', '2.0L H-4 SMPI DOHC', '2.0L I-4 DI TDsl',\n",
              "       '2.0L I-4 DI DOHC TDsl', '3.0L V6 DI DOHC DSL',\n",
              "       '2.5L I-5 MPI DOHC CVVT', '1.5L I-4 PGM-FI SOHC Hyb',\n",
              "       '2.0L I-4 PGMFI SOHC iVTEC', '2.0L I-4 DI DOHC Flex T/C',\n",
              "       '3.0L V6 DI DOHC S/C', '4.0 V8 DI DOHC 2-T/C',\n",
              "       '3.6L V6 DI DOHC VVT', '6.2L V8 DI OHV VVT S/C',\n",
              "       '2.5L I-4 DI DOHC', '1.2L I-4 MFI DOHC VVT',\n",
              "       '1.4L I-4 SMPI SOHC T/C', '2.0L I-4 SMPI DOHC Hybrid',\n",
              "       '1.6L I-4 DI DOHC TC Ecobt', '2.0L I-4 DI DOHC TC Ecobt',\n",
              "       '5.8L V8 SFI S/C I/C', '2.0L I-4 DI DOHC CVVT T/C',\n",
              "       '3.3L V6 DI DOHC', '2.4L I-4 MPI CVVT Hybrid',\n",
              "       '1.6L I-4 DI DOHC T/C', '3.5L V6 SMPI DOHC CVTCS',\n",
              "       '4.6L V8 SMPI DOHC VVT-i', '2.0L I-4 DI DOHC', '2.0L I-4 SFI SOHC',\n",
              "       '5.5L V8 DI DOHC', '5.5L V8 SFI DOHC T/C', '3.8L V6 DI DOHC T/C',\n",
              "       '1.8L I-4 DI DOHC', '3.8L H-6 DI OHC', '3.4L H-6 DI',\n",
              "       '2.0L H-4 DI DOHC', '1.0L I-3 EFI DOHC', '85kWh Elect ',\n",
              "       '3.5L V6 DI SOHC', '4.0L V8 DI DOHC T/C', '3.6L V6 DI DOHC T/C',\n",
              "       '6.2L V8 DI VVT Flex', '3.6L V6 DI DOHC Flex', '4.3L V6 DI Flex',\n",
              "       '5.3L V8 DI Flex', '6.2L V8 DI', '1.5L I-4 DI Ecoboost',\n",
              "       '5.3L V8 DI VVT Flex', '4.3L V6 DI VVT Flex',\n",
              "       '2.0L I-4 DI DOHC CVVT', '5.6L V8 DI DOHC', '3.2L V6 SMPI DOHC',\n",
              "       '2.4L I-4 MPI DOHC Hybrid', '5.0L V8 DI Flex S/C',\n",
              "       '3.0L V6 DI S/C', '3.0L V6 DI Flex S/C',\n",
              "       '2.5L I-4 SFI DOHC Hybrid', '3.0 V6 DI T/C', '2.0L I-4 DI T/C',\n",
              "       '2.1L I-4 DI TDsl BlueTEC', '3.0L V6 DI TDsl BlueTEC',\n",
              "       '1.2L I-3 MPI DOHC', '49kw Elect', '3.7L V6 DI DOHC',\n",
              "       '2.7L H-6 DI', '6.4L V8 SMPI OHC Hemi', '3.0L I-4 DI DOHC TDsl',\n",
              "       '2.0L H-4 DI DOHC T/C', '2.4L I4 EFI DOHC VVTi Hyb',\n",
              "       '1.7L I-4 DI DOHC T/C', '5.2L V10 DI DOHC', '3.0L I-6 DI VVT T/C',\n",
              "       '19kw Electric AC Sync', '3.6L V6 SIDI DOHC VVT Flx',\n",
              "       '2.5L I-4 DI DOHC Flex', '2.0L I4 SIDI DOHC VVT T/C',\n",
              "       '6.2L V8 DI VVT', '3.6L V6 SIDI DOHC VVT T/C',\n",
              "       '2.5L I-4 SIDI DOHC VVT', '6.2L V8 DI VVT Flex S/C',\n",
              "       '6.0L V8 SFI VVT Flex', '1.4L I-4 MPI PHEV', '2.4L I-4 SMPI SOHC',\n",
              "       '6.2L V8 FI S/C Hemi', '3.5L V6 SMPI DOHC Ti-VCT',\n",
              "       '2.7L V6 DI T/C Ecoboost', '2.7L V6 SMPI DOHC Ti-VCT',\n",
              "       '5.0L V8 FI Ti-VCT', '2.3L I-4 FI Ecoboost', '3.7L V6 SMPI Ti-VCT',\n",
              "       '2.4L I-4 SIDI VVT Flex', '2.0L I-4 DI DOHC Hybrid',\n",
              "       '1.5L I-4 DI DOHC i-VTEC', '5.0L V8 DI DOHC CVVT',\n",
              "       '2.5L V6 DI DOHC VVT-i', '5.7L V8 SMPI DOHC VVT-iE',\n",
              "       '2.0L I-4 DI DOHC VVTi T/C', '2.5L I4 EFI DOHC VVTi Hyb',\n",
              "       '2.3L I-4 DI DOHC T/C Eco', '4.7L V8 DI DOHC 2-T/C',\n",
              "       '1.5L I-3 DI DOHC T/C ', '2.4L I-4 MPI DOHC MIVEC',\n",
              "       '3.6L V6 DI DOHC 2-T/C', '3.0L V6 DI DOHC 2-T/C',\n",
              "       '6.4L V8 MDS Hemi', '3.6L H-6 SMPI DOHC', '2.5L H-4 SMPI DOHC',\n",
              "       '1.5L I-4 SMPI DOHC Hyb/El', '1.8L I-4 EFI DOHC T/C ',\n",
              "       '1.8L I-4 FI T/C ', '2.4L I-4 DI DOHC i-VTEC',\n",
              "       '2.0L I-4 DI PHEV T/C', '3.0L I-6 DI DOHC TDsl',\n",
              "       '6.2L V8 DI OHV VVT', '6.2L V8 DI OHV VVT HO',\n",
              "       '2.8L I-4 DI DOHC TDsl', '1.4L I-4 DI DOHC VVT T/C',\n",
              "       '1.5L I-4 DI DOHC VVT T/C', '1.8L I4 SIDI DOHC VVT Hyb',\n",
              "       '1.4L I-4 MFI DOHC', '105kw Elect ', '5.7L V8 SMPI OHC Hemi ',\n",
              "       '1.6L I4 DI Ti-VCT T/C Eco', '23kw Elect', '2.3L I-4 DI Ecoboost',\n",
              "       '1.0L I-3 DI DOHC T/C Eco', '5.2L V8 SFI Ti-VCT',\n",
              "       '2.0L I-4 DI DOHC i-VTEC', '1.5L I-4 DI DOHC T/C',\n",
              "       '1.8L I-4 MPI SOHC i-VTEC', '90kw Elect AC Sync',\n",
              "       '5.0L V8 MPI DOHC S/C', '2.0L I4 EFI DOHC VVTi T/C',\n",
              "       '2.5L I-4 DI DOHC T/C', '4.0L V8 DI DOHC 2-T/C',\n",
              "       '5.5L V8 DI DOHC 2-T/C', '30kw Electric AC Sync ',\n",
              "       '1.6L I-4 SMPI DOHC CVTCS', '5.0L V8 DI DOHC TDsl', '4.0 H-6 DI',\n",
              "       '3.8L H-6 DI', '3.4L H-6 DI OHC', '2.5L I-4 EFI DOHC VVT-i',\n",
              "       '90kWh Elect ', '60kWh Elect ', '2.5L I-4 EFI DOHC Hyb',\n",
              "       '2.5L I4 SMPI DOHC Hyb', '3.5L V6 EFI DOHC VVT-i',\n",
              "       '1.4L I-4 DI T/C', '1.4L I-4 DI DOHC HybT/C',\n",
              "       '2.5L I-5 DI DOHC T/C', '2.0L I-4 DI DOHC S/C',\n",
              "       '1.4L I-4 DI DOHC PHEV T/C', '3.0L V6 FSI DOHC S/C',\n",
              "       '125kw Electric', '6.2L V8 SIDI VVT', '60kw Electric',\n",
              "       '5.3L V8 DI VVT Ecotec', '1.5L I-4 DI DOHC VVT Hyb',\n",
              "       '3.6L V6 SMPI DOHC PHEV', '2.0L I-4 SMPI PHEV',\n",
              "       '1.5L I-4 DI DOHC T/C Eco ', '2.0L I-4 SMPI Hyb Elect',\n",
              "       '5.0L V8 SMPI Ti-VCT', '2.0L I-4 MPI DOHC i-VTEC',\n",
              "       '3.5L V6 DI SOHC i-VTEC', '1.6L I-4 DI DOHC Hybrid', '3.5L V6 DI',\n",
              "       '1.6L I-4 DI DOHC CVVT Hyb', '2.0L I-4 DI DOHC CVVT Hyb',\n",
              "       '3.0L V6 DI T/C', '2.7L V6 DI', '3.0L V6 DI',\n",
              "       '1.2 I-3 MPI DOHC MIVEC', '3.0L H-6 DI 2-T/C',\n",
              "       '3.0L V6 DI PHEV S/C', '3.6L V6 DI', '2.5L H-4 DI T/C',\n",
              "       '2.0L H-4 DI T/C', '2.0L I-4 DI', '100kWh Elect ',\n",
              "       '2.5L I-4 SMPI DOHC VVT-i', '1.8L I-4 EFI DOHC PHEV',\n",
              "       '1.5L I-4 SMPI DOHC VVT-i', '3.6L V6 FSI T/C', '3.6L V6 FSI DOHC',\n",
              "       '100kw Electric', '2.0L I-4 DI DOHC S/C T/C',\n",
              "       '2.0L I-4 DI PHEV S/C TC ', '3.5L V6 DI SOHC Hyb iVTEC',\n",
              "       '2.9L V6 DI DOHC T/C', '2.0L I-4 SIDI VVT T/C',\n",
              "       '3.0L V6 DI DOHC VVT 2-T/C', '1.6L I-4 DI DOHC TDsl',\n",
              "       '4.3L V6 SIDI VVT', '5.3L V8 DI VVT eAssist',\n",
              "       '2.0L I-4 DI DOHC Ti-VCT', '1.5L I-4 DI T/C Ecoboost',\n",
              "       '3.3L V6 DI Flex Ti-VCT', '3.2L I-5 DI DOHC TDsl',\n",
              "       '3.3L V6 DI DOHC T/C', '5.0L V8 DI DOHC', '1.5L I-4 FI DOHC PHEV',\n",
              "       '1.6L I-4 DI DOHC PHEV', '3.5L V6 DI DOHC Hybrid',\n",
              "       '3.5L V6 DI DOHC VVT-i T/C', '2.7L V6 DI T/C',\n",
              "       '1.5L I-4 DI DOHC MIVEC', '2.5L I-4 DI DOHC CVTCS',\n",
              "       '110kw Elect AC Sync', '2.9L V6 DI 2-T/C', '54kWh Elect ',\n",
              "       '62kWh Elect ', '75kWh Elect ', '2.5L I-4 DI DOHC VVT-i',\n",
              "       '2.9L V6 DI T/C', '2.9L V6 FSI DOHC T/C', '3.0L V6 FSI DOHC T/C',\n",
              "       '95kw Elect ', '2.0L I-4 DI DOHC PHEV T/C', '6.6L V12 DI T/C',\n",
              "       '6.2L V8 DI VVT S/C', '6.0L V8 SFI CNG/Gas',\n",
              "       '4.3L V6 SIDI VVT Flex', '2.7L I-4 SIDI DOHC T/C',\n",
              "       '2.3L I-4 DI Ti-VCT Ecoboo', '1.5L I-4 SIDI DOHC T/C',\n",
              "       '2.0L I-4 DI DOHC T/C ', '3.8L V6 DI DOHC', '88kw Electric',\n",
              "       '64kw Elect ', '2.4L I-4 DI DOHC ', '5.0L V8 DI DOHC Flex S/C',\n",
              "       '90kw Elect', '1.3L I-4 DI T/C ', '1.6L I-4 DI DOHC PHEV ',\n",
              "       '2.5L I-4 DI Hybrid ', '2.0L I-4 DI DOHC Hybrid ', '3.8 V8 DI',\n",
              "       '2.2L I-4 DI DOHC DSL ', '3.0L I-6 DI DOHC T/C ',\n",
              "       '3.0L V6 MPI SOHC MIVEC', '3.0L V6 DI PHEV', '4.8L V8 DI T/C',\n",
              "       '2.4L H-4 DI DOHC T/C', '2.5L H-4 DI DOHC ', '79.5kWh Elect ',\n",
              "       '53.6kWh Elect ', '2.0L I-4 DI DOHC VVT-i',\n",
              "       '1.6kWh Hydrogen Elect ', '3.0L V6 DI DOHC MHEV ',\n",
              "       '2.0L I-4 DI PHEV T/C ', '3.0L I-6 DI T/C ',\n",
              "       '1.3L I-3 SIDI DOHC T/C ', '1.2L I-3 DI DOHC T/C ',\n",
              "       '2.0L I-4 SIDI DOHC T/C ', '6.2L V8 DI VVT HO ',\n",
              "       '6.2L V8 DI Dyn Fuel Mgmt ', '3.0L I-6 DI TDsl',\n",
              "       '6.6L V8 DI DOHC VVT ', '5.7L V8 SMPI Hemi ',\n",
              "       '2.5L I-4 EFI DOHC Hybrid', '2.0L I-4 DI Ecoboost ',\n",
              "       '3.0L V6 DI DOHC T/C ', '3.3L V6 DI DOHC Hyb ', '7.3L V8 PFI OHV ',\n",
              "       '5.2L V8 FI Ti-VCT S/C ', '1.6L I-4 EFI DOHC VTEC ',\n",
              "       '1.5L I-4 MPI DOHC Hybrid ', '100kw Electric ',\n",
              "       '64kw Elect AC Sync ', '1.6L I-4 MPI DOHC PHEV ',\n",
              "       '3.0L I-6 DI MHEV T/C ', '2.0L I-4 DI MHEV T/C ',\n",
              "       '1.5L I-3 DI PHEV T/C ', '135kW Elect ',\n",
              "       '2.0L I-4 DOHC PHEV MIVEC ', '160kw Elect AC Sync ',\n",
              "       '4.0L V8 DI PHEV 2-T/C', '3.0L V6 DI PHEV T/C ',\n",
              "       '2.0L I-4 DI T/C ', '300kW Elect AC Sync ',\n",
              "       '2.0L H-4 DI DOHC PHEV ', '2.5L H-4 SMPI DOHC T/C ', '62kw Elect ',\n",
              "       '100kw Elect ', '3.0L V6 DI T/C ', '3.0L V6 FSI MHEV T/C ',\n",
              "       '3.0L I-6 DI PHEV T/C ', '3.0L V6 SIDI 2-T/C ',\n",
              "       '3.0L V6 DOHC TDsl ', '6.2L V8 DI Ecotec ',\n",
              "       '6.2L V8 SMPI S/C Hemi HO ', '2.5L I-4 SMPI Hybrid ',\n",
              "       '2.5L I-4 SMPI PHEV ', '3.5L V6 DI Hybrid T/C ',\n",
              "       '7.3L V8 MPI OHV ', '88kw Elect ', '68Kw Electric ',\n",
              "       '3.5L V6 DI DOHC Flex ', '3.0L I-6 DI DOHC TDsl ',\n",
              "       '3.5L V6 DI T/C ', '2.5L I-4 DI T/C ', '2.0L I-4 PFI DOHC ',\n",
              "       '2.5L I-4 DI DOHC T/C ', '2.5L I-4 DI DOHC ',\n",
              "       '2.5L I-4 MPI DOHC T/C ', '2.5L I-4 DI DOHC CVVT ',\n",
              "       '3.0L I-6 MHEV S/C T/C ', '39.2kw Elect AC Sync ',\n",
              "       '2.5L I-4 DI PHEV ', '3.8 V8 DI DOHC T/C ',\n",
              "       '2.4L I-4 DOHC PHEV MIVEC ', '75kW Electric ', '3.8L H-6 DI T/C',\n",
              "       '280kW Electric AC Sync ', '82kWh Elect ',\n",
              "       '2.5L I-4 DI VVT-i Hybrid ', '1.8L I-4 SMPI DOHC Hyb ',\n",
              "       '125kw Electric ', '82kw Elect ', '5.2L V10 FSI DOHC ',\n",
              "       '93kw Elect ', '83.9kw Electric ', '111.5kw Electric ',\n",
              "       '1.4L I-4 SIDI DOHC T/C ', '150kW Electric Elect ',\n",
              "       '6.4L V8 SMPI SRT Hemi ', '6.2L V8 SMPI S/C HO ',\n",
              "       '6.2L V8 SMPI S/C SRT Hmi ', '1.3L I-4 DI SOHC T/C ',\n",
              "       '2.3L I-4 DI T/C Ecoboost ', '1.5L I-3 DI T/C Ecoboost ',\n",
              "       '2.0L I-4 DI Ti-VCT ', '3.0L V6 DI T/C Ecoboost ',\n",
              "       '3.3L V6 DI Hybrid Ti-VCT ', '3.5L V6 DI T/C HO ', '98kWh Elect ',\n",
              "       '91Kw Electric ', '70Kw Electric ', '6.6L V8 DI VVT ',\n",
              "       '2.0L I-4 PFI DOHC Hybrid ', '1.8L I-4 FI SOHC ', '125kW Elect ',\n",
              "       '239kW Elect ', '168kW Elect ', '6.4L V8 SMPI OHC ',\n",
              "       '3.0L V6 DI DOHC DSL ', '3.5L V6 DI DOHC ', '160kW Electric ',\n",
              "       '1.6L I-4 DI Hybrid T/C ', '4.6L V8 SMPI DOHC ',\n",
              "       '2.4L I-4 DI T/C ', '3.5L V6 SMPI DOHC ', '2.5L I-4 PFI PHEV ',\n",
              "       '2.3L I-4 DI T/C Ti-VCT ', '107kW Electric ', '66.5kW Elect ',\n",
              "       '385kw Electric ', '2.0L I-4 DI TDsl ', '2.5L I-4 DI DOHC MIVEC ',\n",
              "       '3.8L V6 DI DOHC ', '3.7L H-6 DI 2-T/C ', '4.0L V8 DI T/C',\n",
              "       '4.0L V8 DI 2-T/C', '460kw Electric AC Sync ', '120kw Elect ',\n",
              "       '2.4L H-4 DI DOHC ', '2.5L I-4 DI DOHC Hybrid ',\n",
              "       '1.8L I-4 SMPI DOHC PHEV ', '3.5L V6 SMPI T/C ',\n",
              "       '3.5L V6 SMPI Hybrid T/C ', '1.5L I-4 TSI DOHC ',\n",
              "       '2.0L I-4 TSI DOHC ', '1.5L I-4 DI DOHC T/C ',\n",
              "       '78kw Electric Elect ', '1.5L I-4 DI T/C VTEC ',\n",
              "       '3.0L V6 DI DOHC ', '2.0L I-4 DI SOHC T/C ',\n",
              "       '2.9L V6 DI DOHC T/C ', '5.2L V10 DI DOHC ', '4.4L V8 DI T/C ',\n",
              "       '70.2kWh Elect ', '81kWh Elect ', '107kWh Elect ',\n",
              "       '76.6kWh Elect ', '2.7L I-4 DI DOHC T/C HO ',\n",
              "       '2.7L I-4 DI DOHC T/C ', '5.5L V8 DI DOHC ', '6.6L V8 DI OHV ',\n",
              "       '113kWh Elect ', '3.0L V6 DI DOHC T/C Eco ', '68kWh Elect ',\n",
              "       '5.2L V8 PFI S/C ', '131kWh Elect ', '6.7L V8 DI OHV TDsl ',\n",
              "       '6.7L V8 DI OHV TDsl HO ', '6.8L V8 PFI SOHC ',\n",
              "       '3.5L V6 DI DOHC T/C Eco ', '212.7kWh Elect ', '272kW Elect ',\n",
              "       '3.5L V6 DI DOHC T/C ', '3.5L V6 DI MHEV S/C T/C ', '160kW Elect ',\n",
              "       '77.4kWh Elect ', '2.0L I-4 PI DOHC ', '1.6L I-4 DI PHEV T/C ',\n",
              "       '64.8kWh Electric ', '3.0L I-6 DI MHEV S/C T/C ',\n",
              "       '2.4L I-4 DI DOHC Hyb T/C ', '3.8L V8 DI DOHC T/C ',\n",
              "       '3.0L V6 DI DOHC 2-T/C ', '35.5kWh Elect ', '70.5kWh Elect ',\n",
              "       '90.6kWh Elect ', '89kWh Elect ', '107.8kWh Elect ',\n",
              "       '2.0L I-4 DI DOHC TDsl ', '1.5L I-3 DI T/C ', '32.6kWh Elect ',\n",
              "       '2.4L I-4 MPI PHEV MIVEC ', '87 kWh Elect ', '63kWh Elect ',\n",
              "       '78kW Electric ', '4.0L H-6 DI ', '93.4kWh Elect ',\n",
              "       '6.7L I-6 DI OHV TDsl ', '6.4L V8 SMPI OHV ', '3.6L V6 SMPI DOHC ',\n",
              "       '135kWh Elect ', '72.8kWh Elect ', '2.4L H-4 DI DOHC T/C ',\n",
              "       '1.8L I-4 DI DOHC Hybrid ', '1.6L I-3 DI DOHC T/C ',\n",
              "       '2.4L I-4 DI DOHC T/C ', '2.0L I-4 DI DOHC PHEV ',\n",
              "       '2.5L I-4 DI DOHC PHEV ', '3.5L V6 SMPI Hyb T/C ',\n",
              "       '3.5L V6 SMPI DOHC T/C ', '3.5L V6 DI SOHC ',\n",
              "       '2.0L I-4 DI DOHC GAS T/C ', '3.0L V6 DI DOHC GAS T/C ',\n",
              "       '102kWh ELEC ', '2.9L V6 DI DOHC 2-T/C ',\n",
              "       '1.3L I-4 DI SOHC PHEV TC ', '2.0L I-4 DI DOHC PHEV TC ',\n",
              "       '114kWh Elect ', '4.0L V8 DI DOHC 2-T/C ',\n",
              "       '4.4L V8 DI DOHC 2-T/C ', '3.0L I-6 DI DOHC PHEV TC ',\n",
              "       '3.0L I-6 DI DOHC 2-T/C ', '4.4L V8 DI DOHC PHEV 2TC ',\n",
              "       '83.9kWh Elect ', '105.7kWh Elect ', '111.5kWh Elect ',\n",
              "       '3.6L V6 DI DOHC ', '1.3L I-3 DI DOHC T/C ',\n",
              "       '2.7L I-4 SIDI DOHC T/C ', '3.6L V6 SIDI DOHC 2-T/C ',\n",
              "       '3.0L V6 SIDI DOHC 2-T/C ', '6.2L V8 DI OHV S/C ',\n",
              "       '3.0L V6 DI DOHC TDsl ', '6.2L V8 DI OHV T/C ', '102kWh Elect ',\n",
              "       '6.2L V8 DI OHV ', '2.7L I-4 DI GAS T/C HO ',\n",
              "       '2.7L I-4 DI DOHC GAS T/C ', '6.2L V8 DI OHV HO ',\n",
              "       '5.5L V8 DI DOHC HO ', '6.2L V8 DI OHV HYB HO ', '4.3L V6 DI OHV ',\n",
              "       '5.3L V8 DI OHV ', '6.6L V8 DI OHV TDsl ', '167kWh ELEC ',\n",
              "       '200kWh ELEC ', '2.5L I-4 DI DOHC GAS T/C ',\n",
              "       '3.6L V6 PFI DOHC PHEV ', '5.7L V8 SMPI OHV Hemi ',\n",
              "       '6.4L V8 SMPI OHV SRTHemi ', '6.2L V8 OHV S/C SRT Hemi ',\n",
              "       '1.3L I-4 DI DOHC PHEV TC ', '42kWh Elect ',\n",
              "       '2.3L I-4 DI GAS TC Eco ', '2.7L V6 DI GAS T/C Eco ',\n",
              "       '3.0L V6 DI GAS T/C Eco ', '2.0L I-4 DI DOHC T/C Eco ',\n",
              "       '1.5L I-3 DI DOHC T/C Eco ', '2.7L V6 DI DOHC 2 TC Eco ',\n",
              "       '2.5L I-4 SMPI DOHC PHEV ', '2.5L I-4 SMPI HYB ',\n",
              "       '3.5L V6 DI 2-TC Eco HO ', '3.5L V6 DI DOHC 2-TC Eco ',\n",
              "       '2.3L I-4 DI GAS T/C Eco ', '3.0L V6 DI GAS 2-T/C Eco ',\n",
              "       '3.5L V6 DI GAS 2-T/C Eco ', '3.5L V6 DI OHC HYB 2-T/C ',\n",
              "       '2.7L V6 DI OHC GAS 2-T/C ', '5.0L V8 DI OHC GAS ',\n",
              "       '3.5L V6 DI GAS 2-T/C HO ', '5.2L V8 DI GAS S/C HO ',\n",
              "       '6.7L V8 DI OHV DSL T/C ', '6.7L V8 DI OHV DSL TC HO ',\n",
              "       '7.3L V8 PFI OHV GAS ', '6.8L V8 PFI SOHC GAS ',\n",
              "       '2.0L I-4 DI GAS T/C Eco ', '5.0L V8 DI DOHC ',\n",
              "       '2.3L I-4 DI DOHC T/C ', '72kWh Elect ', '91kWh Elect ',\n",
              "       '2.3L I-4 DI DOHC Eco ', '3.5L V6 DI DOHC GAS ',\n",
              "       '3.5L V6 DI GAS T/C Eco ', '246kWh Elect ',\n",
              "       '3.3L V6 DI DOHC GAS 2TC ', '3.5L V6 DI DOHC GAS 2TC ',\n",
              "       '3.5L V6 DI SOHC GAS ', '1.6L I-4 DI DOHC Hybrid ',\n",
              "       '1.6L I-4 DI DOHC T/C ', '64.8kWh Elect ',\n",
              "       '1.6L I-4 DI DOHC Hyb T/C ', '2.5L I-4 DI DOHC GAS ',\n",
              "       '1.6L I-4 DI DOHC PHEV TC ', '1.6L I-4 DPI DOHC ',\n",
              "       '3.0L V6 DI DOHC GAS 2TC ', '5.6L V8 DI DOHC ',\n",
              "       '3.0L I-6 DI DOHC S/C T/C ', '5.0L V8 DI DOHC S/C ',\n",
              "       '6.4L V8 SMPI OHV SRT ', '99.8kWh Elect ', '3.0L I-6 DI S/C T/C ',\n",
              "       '3.4L V6 DI DOHC 2-T/C ', '3.5L V6 DI DOHC Hybrid ',\n",
              "       '2.4L I-4 DI DOHC GAS T/C ', '2.4L I-4 DI DOHC HYB T/C ',\n",
              "       '2.4L I-4 DI Hybrid T/C ', '2.0L I-4 DI DOHC Hyb T/C ',\n",
              "       '3.5L V6 DI DOHC 2-T/C ', '3.3L I-6 DI DOHC T/C ',\n",
              "       '2.0L I-4 DI DOHC GAS ', '90.6kWh ELEC ',\n",
              "       '4.0L V8 DI DOHC PHEV 2TC ', '1.2L I-3 MPI DOHC ',\n",
              "       '2.4L I-4 DI DOHC PHEV ', '66kWh ELEC ', '91kWh ELEC ',\n",
              "       '5.6L V8 DI DOHC GAS ', '1.6L I-4 DI DOHC ', '40kWh Elect ',\n",
              "       '2.0L I-4 DI DOHC ', '1.6L I-4 SMPI DOHC GAS ',\n",
              "       '3.0L H-6 DI DOHC 2-T/C ', '3.7L H-6 DI DOHC 2-T/C ',\n",
              "       '3.0L V6 DI DOHC PHEV T/C ', '79.2kWh Elect ',\n",
              "       '6.2L V8 OHV S/C SRT Hmi ', '6.4L V8 SMPI OHV Hemi ',\n",
              "       '6.7L I-6 DI OHV TDsl HO ', '2.0L H-4 DI DOHC ', '72.8kWh ELEC ',\n",
              "       '4.0L V6 SMPI DOHC ', '2.0L I-4 DI DOHC HYB ',\n",
              "       '1.6L I-3 DI DOHC GAS T/C ', '2.4L H-4 DI DOHC GAS ',\n",
              "       '3.5L V6 DI Hybrid 2TC ', '3.5L V6 DI Hybrid 2-T/C ',\n",
              "       '71.4kWh Elect ', '78kWh Elect ', '2.0L I-4 DI DOHC S/C T/C '],\n",
              "      dtype=object)"
            ]
          },
          "metadata": {},
          "execution_count": 45
        }
      ]
    },
    {
      "cell_type": "code",
      "source": [
        "plt.hist(df['engine_from_vin'],bins = 50,edgecolor = 'black')\n",
        "plt.show()"
      ],
      "metadata": {
        "colab": {
          "base_uri": "https://localhost:8080/",
          "height": 430
        },
        "id": "sbJR5w9yJtXu",
        "outputId": "e2571c59-2001-40da-df39-91ded79343df"
      },
      "execution_count": null,
      "outputs": [
        {
          "output_type": "display_data",
          "data": {
            "text/plain": [
              "<Figure size 640x480 with 1 Axes>"
            ],
            "image/png": "[encoded data removed]"
          },
          "metadata": {}
        }
      ]
    },
    {
      "cell_type": "code",
      "source": [
        "df['transmission_from_vin'].isnull().sum()"
      ],
      "metadata": {
        "colab": {
          "base_uri": "https://localhost:8080/"
        },
        "id": "xiIDB4J7KNjC",
        "outputId": "96eca0c3-cef9-4737-9964-5e6d08ee4625"
      },
      "execution_count": null,
      "outputs": [
        {
          "output_type": "execute_result",
          "data": {
            "text/plain": [
              "0"
            ]
          },
          "metadata": {},
          "execution_count": 47
        }
      ]
    },
    {
      "cell_type": "code",
      "source": [
        "df['transmission_from_vin'].unique()"
      ],
      "metadata": {
        "colab": {
          "base_uri": "https://localhost:8080/"
        },
        "id": "r0VgsIfEKXgH",
        "outputId": "44b2123c-ef54-4f16-fa28-1cb41e070c94"
      },
      "execution_count": null,
      "outputs": [
        {
          "output_type": "execute_result",
          "data": {
            "text/plain": [
              "array(['A', 'M', '6', '7'], dtype=object)"
            ]
          },
          "metadata": {},
          "execution_count": 48
        }
      ]
    },
    {
      "cell_type": "code",
      "source": [
        "sum6 = 0\n",
        "sum7 = 0\n",
        "for i in range (df.shape[0]):\n",
        "  if df['transmission_from_vin'][i] == \"6\":\n",
        "    sum6 += 1\n",
        "  elif df['transmission_from_vin'][i] == \"7\":\n",
        "    sum7 += 1"
      ],
      "metadata": {
        "id": "5y5q6rGgKa-v"
      },
      "execution_count": null,
      "outputs": []
    },
    {
      "cell_type": "code",
      "source": [
        "sum6, sum7"
      ],
      "metadata": {
        "colab": {
          "base_uri": "https://localhost:8080/"
        },
        "id": "Q1hhDEsPK0yL",
        "outputId": "5b0bc2da-500a-484d-f5de-3d7e92cbf609"
      },
      "execution_count": null,
      "outputs": [
        {
          "output_type": "execute_result",
          "data": {
            "text/plain": [
              "(2, 32)"
            ]
          },
          "metadata": {},
          "execution_count": 50
        }
      ]
    },
    {
      "cell_type": "code",
      "source": [
        "df['transmission_from_vin'] = df['transmission_from_vin'].replace(\"6\", \"M\")"
      ],
      "metadata": {
        "id": "XJj7W-LCK2fl"
      },
      "execution_count": null,
      "outputs": []
    },
    {
      "cell_type": "code",
      "source": [
        "df['transmission_from_vin'].unique()"
      ],
      "metadata": {
        "colab": {
          "base_uri": "https://localhost:8080/"
        },
        "id": "7NjPSbqwLHhq",
        "outputId": "ac3ff50f-599d-4881-d9a0-6e601a357d9a"
      },
      "execution_count": null,
      "outputs": [
        {
          "output_type": "execute_result",
          "data": {
            "text/plain": [
              "array(['A', 'M', '7'], dtype=object)"
            ]
          },
          "metadata": {},
          "execution_count": 52
        }
      ]
    },
    {
      "cell_type": "code",
      "source": [
        "df['transmission_from_vin'] = df['transmission_from_vin'].replace(\"7\", \"A\")"
      ],
      "metadata": {
        "id": "dUWd11a4LJYH"
      },
      "execution_count": null,
      "outputs": []
    },
    {
      "cell_type": "code",
      "source": [
        "df['transmission_from_vin'].unique()"
      ],
      "metadata": {
        "colab": {
          "base_uri": "https://localhost:8080/"
        },
        "id": "vpV5CILTLcfV",
        "outputId": "711d0ce7-1250-4a4a-c743-c3ea1f5936da"
      },
      "execution_count": null,
      "outputs": [
        {
          "output_type": "execute_result",
          "data": {
            "text/plain": [
              "array(['A', 'M'], dtype=object)"
            ]
          },
          "metadata": {},
          "execution_count": 54
        }
      ]
    },
    {
      "cell_type": "code",
      "source": [
        "df['fuel_type_from_vin']"
      ],
      "metadata": {
        "colab": {
          "base_uri": "https://localhost:8080/",
          "height": 453
        },
        "id": "eKAW9ECUMRgD",
        "outputId": "3c55aea8-3ee2-4853-ac2e-de5e3b2b081e"
      },
      "execution_count": null,
      "outputs": [
        {
          "output_type": "execute_result",
          "data": {
            "text/plain": [
              "0          Gas\n",
              "1          Gas\n",
              "2          Gas\n",
              "3          Gas\n",
              "4          Gas\n",
              "          ... \n",
              "145109    PHEV\n",
              "145110    PHEV\n",
              "145111    PHEV\n",
              "145112    PHEV\n",
              "145113    PHEV\n",
              "Name: fuel_type_from_vin, Length: 145114, dtype: object"
            ],
            "text/html": [
              "<div>\n",
              "<style scoped>\n",
              "    .dataframe tbody tr th:only-of-type {\n",
              "        vertical-align: middle;\n",
              "    }\n",
              "\n",
              "    .dataframe tbody tr th {\n",
              "        vertical-align: top;\n",
              "    }\n",
              "\n",
              "    .dataframe thead th {\n",
              "        text-align: right;\n",
              "    }\n",
              "</style>\n",
              "<table border=\"1\" class=\"dataframe\">\n",
              "  <thead>\n",
              "    <tr style=\"text-align: right;\">\n",
              "      <th></th>\n",
              "      <th>fuel_type_from_vin</th>\n",
              "    </tr>\n",
              "  </thead>\n",
              "  <tbody>\n",
              "    <tr>\n",
              "      <th>0</th>\n",
              "      <td>Gas</td>\n",
              "    </tr>\n",
              "    <tr>\n",
              "      <th>1</th>\n",
              "      <td>Gas</td>\n",
              "    </tr>\n",
              "    <tr>\n",
              "      <th>2</th>\n",
              "      <td>Gas</td>\n",
              "    </tr>\n",
              "    <tr>\n",
              "      <th>3</th>\n",
              "      <td>Gas</td>\n",
              "    </tr>\n",
              "    <tr>\n",
              "      <th>4</th>\n",
              "      <td>Gas</td>\n",
              "    </tr>\n",
              "    <tr>\n",
              "      <th>...</th>\n",
              "      <td>...</td>\n",
              "    </tr>\n",
              "    <tr>\n",
              "      <th>145109</th>\n",
              "      <td>PHEV</td>\n",
              "    </tr>\n",
              "    <tr>\n",
              "      <th>145110</th>\n",
              "      <td>PHEV</td>\n",
              "    </tr>\n",
              "    <tr>\n",
              "      <th>145111</th>\n",
              "      <td>PHEV</td>\n",
              "    </tr>\n",
              "    <tr>\n",
              "      <th>145112</th>\n",
              "      <td>PHEV</td>\n",
              "    </tr>\n",
              "    <tr>\n",
              "      <th>145113</th>\n",
              "      <td>PHEV</td>\n",
              "    </tr>\n",
              "  </tbody>\n",
              "</table>\n",
              "<p>145114 rows × 1 columns</p>\n",
              "</div><br><label><b>dtype:</b> object</label>"
            ]
          },
          "metadata": {},
          "execution_count": 55
        }
      ]
    },
    {
      "cell_type": "code",
      "source": [
        "df['fuel_type_from_vin'].unique()"
      ],
      "metadata": {
        "colab": {
          "base_uri": "https://localhost:8080/"
        },
        "id": "8UXEtU-EMXRe",
        "outputId": "ec7f697d-ac9c-4456-8738-3be31a97e0f7"
      },
      "execution_count": null,
      "outputs": [
        {
          "output_type": "execute_result",
          "data": {
            "text/plain": [
              "array(['Gas', 'CNG', 'Diesel', 'Hybrid', 'Electric', 'PHEV', 'Hydrogen'],\n",
              "      dtype=object)"
            ]
          },
          "metadata": {},
          "execution_count": 56
        }
      ]
    },
    {
      "cell_type": "code",
      "source": [
        "df['fuel_type_from_vin'].isnull().sum()"
      ],
      "metadata": {
        "colab": {
          "base_uri": "https://localhost:8080/"
        },
        "id": "wR52L7LlNKx2",
        "outputId": "99665b52-2cb8-4c90-dee6-52849f7d2a6b"
      },
      "execution_count": null,
      "outputs": [
        {
          "output_type": "execute_result",
          "data": {
            "text/plain": [
              "0"
            ]
          },
          "metadata": {},
          "execution_count": 57
        }
      ]
    },
    {
      "cell_type": "code",
      "source": [
        "df.isnull().sum()"
      ],
      "metadata": {
        "id": "oGPyZ-nUNRmQ",
        "outputId": "9a112c8a-c789-459e-8a87-03d41c31bf87",
        "colab": {
          "base_uri": "https://localhost:8080/",
          "height": 1000
        }
      },
      "execution_count": null,
      "outputs": [
        {
          "output_type": "execute_result",
          "data": {
            "text/plain": [
              "listing_id                      0\n",
              "listing_heading                 0\n",
              "listing_type                    0\n",
              "listing_url                     0\n",
              "listing_first_date              0\n",
              "days_on_market                  0\n",
              "dealer_id                       0\n",
              "dealer_name                     0\n",
              "dealer_street                   0\n",
              "dealer_city                     0\n",
              "dealer_province                 0\n",
              "dealer_postal_code              0\n",
              "dealer_url                      0\n",
              "dealer_email               145114\n",
              "dealer_phone                38770\n",
              "dealer_type                     0\n",
              "stock_type                      0\n",
              "vehicle_id                      0\n",
              "vin                             0\n",
              "uvc                             0\n",
              "mileage                         0\n",
              "price                           0\n",
              "msrp                            0\n",
              "model_year                      0\n",
              "make                            0\n",
              "model                           0\n",
              "series                          0\n",
              "style                           0\n",
              "certified                       0\n",
              "has_leather                     0\n",
              "has_navigation                  0\n",
              "exterior_color               6049\n",
              "exterior_color_category     34947\n",
              "interior_color              51663\n",
              "interior_color_category     58781\n",
              "price_analysis                  0\n",
              "wheelbase_from_vin              0\n",
              "drivetrain_from_vin             0\n",
              "engine_from_vin                 0\n",
              "transmission_from_vin           0\n",
              "fuel_type_from_vin              0\n",
              "number_price_changes            0\n",
              "price_history_delimited         0\n",
              "distance_to_dealer              0\n",
              "location_score                  0\n",
              "listing_dropoff_date        46984\n",
              "dtype: int64"
            ],
            "text/html": [
              "<div>\n",
              "<style scoped>\n",
              "    .dataframe tbody tr th:only-of-type {\n",
              "        vertical-align: middle;\n",
              "    }\n",
              "\n",
              "    .dataframe tbody tr th {\n",
              "        vertical-align: top;\n",
              "    }\n",
              "\n",
              "    .dataframe thead th {\n",
              "        text-align: right;\n",
              "    }\n",
              "</style>\n",
              "<table border=\"1\" class=\"dataframe\">\n",
              "  <thead>\n",
              "    <tr style=\"text-align: right;\">\n",
              "      <th></th>\n",
              "      <th>0</th>\n",
              "    </tr>\n",
              "  </thead>\n",
              "  <tbody>\n",
              "    <tr>\n",
              "      <th>listing_id</th>\n",
              "      <td>0</td>\n",
              "    </tr>\n",
              "    <tr>\n",
              "      <th>listing_heading</th>\n",
              "      <td>0</td>\n",
              "    </tr>\n",
              "    <tr>\n",
              "      <th>listing_type</th>\n",
              "      <td>0</td>\n",
              "    </tr>\n",
              "    <tr>\n",
              "      <th>listing_url</th>\n",
              "      <td>0</td>\n",
              "    </tr>\n",
              "    <tr>\n",
              "      <th>listing_first_date</th>\n",
              "      <td>0</td>\n",
              "    </tr>\n",
              "    <tr>\n",
              "      <th>days_on_market</th>\n",
              "      <td>0</td>\n",
              "    </tr>\n",
              "    <tr>\n",
              "      <th>dealer_id</th>\n",
              "      <td>0</td>\n",
              "    </tr>\n",
              "    <tr>\n",
              "      <th>dealer_name</th>\n",
              "      <td>0</td>\n",
              "    </tr>\n",
              "    <tr>\n",
              "      <th>dealer_street</th>\n",
              "      <td>0</td>\n",
              "    </tr>\n",
              "    <tr>\n",
              "      <th>dealer_city</th>\n",
              "      <td>0</td>\n",
              "    </tr>\n",
              "    <tr>\n",
              "      <th>dealer_province</th>\n",
              "      <td>0</td>\n",
              "    </tr>\n",
              "    <tr>\n",
              "      <th>dealer_postal_code</th>\n",
              "      <td>0</td>\n",
              "    </tr>\n",
              "    <tr>\n",
              "      <th>dealer_url</th>\n",
              "      <td>0</td>\n",
              "    </tr>\n",
              "    <tr>\n",
              "      <th>dealer_email</th>\n",
              "      <td>145114</td>\n",
              "    </tr>\n",
              "    <tr>\n",
              "      <th>dealer_phone</th>\n",
              "      <td>38770</td>\n",
              "    </tr>\n",
              "    <tr>\n",
              "      <th>dealer_type</th>\n",
              "      <td>0</td>\n",
              "    </tr>\n",
              "    <tr>\n",
              "      <th>stock_type</th>\n",
              "      <td>0</td>\n",
              "    </tr>\n",
              "    <tr>\n",
              "      <th>vehicle_id</th>\n",
              "      <td>0</td>\n",
              "    </tr>\n",
              "    <tr>\n",
              "      <th>vin</th>\n",
              "      <td>0</td>\n",
              "    </tr>\n",
              "    <tr>\n",
              "      <th>uvc</th>\n",
              "      <td>0</td>\n",
              "    </tr>\n",
              "    <tr>\n",
              "      <th>mileage</th>\n",
              "      <td>0</td>\n",
              "    </tr>\n",
              "    <tr>\n",
              "      <th>price</th>\n",
              "      <td>0</td>\n",
              "    </tr>\n",
              "    <tr>\n",
              "      <th>msrp</th>\n",
              "      <td>0</td>\n",
              "    </tr>\n",
              "    <tr>\n",
              "      <th>model_year</th>\n",
              "      <td>0</td>\n",
              "    </tr>\n",
              "    <tr>\n",
              "      <th>make</th>\n",
              "      <td>0</td>\n",
              "    </tr>\n",
              "    <tr>\n",
              "      <th>model</th>\n",
              "      <td>0</td>\n",
              "    </tr>\n",
              "    <tr>\n",
              "      <th>series</th>\n",
              "      <td>0</td>\n",
              "    </tr>\n",
              "    <tr>\n",
              "      <th>style</th>\n",
              "      <td>0</td>\n",
              "    </tr>\n",
              "    <tr>\n",
              "      <th>certified</th>\n",
              "      <td>0</td>\n",
              "    </tr>\n",
              "    <tr>\n",
              "      <th>has_leather</th>\n",
              "      <td>0</td>\n",
              "    </tr>\n",
              "    <tr>\n",
              "      <th>has_navigation</th>\n",
              "      <td>0</td>\n",
              "    </tr>\n",
              "    <tr>\n",
              "      <th>exterior_color</th>\n",
              "      <td>6049</td>\n",
              "    </tr>\n",
              "    <tr>\n",
              "      <th>exterior_color_category</th>\n",
              "      <td>34947</td>\n",
              "    </tr>\n",
              "    <tr>\n",
              "      <th>interior_color</th>\n",
              "      <td>51663</td>\n",
              "    </tr>\n",
              "    <tr>\n",
              "      <th>interior_color_category</th>\n",
              "      <td>58781</td>\n",
              "    </tr>\n",
              "    <tr>\n",
              "      <th>price_analysis</th>\n",
              "      <td>0</td>\n",
              "    </tr>\n",
              "    <tr>\n",
              "      <th>wheelbase_from_vin</th>\n",
              "      <td>0</td>\n",
              "    </tr>\n",
              "    <tr>\n",
              "      <th>drivetrain_from_vin</th>\n",
              "      <td>0</td>\n",
              "    </tr>\n",
              "    <tr>\n",
              "      <th>engine_from_vin</th>\n",
              "      <td>0</td>\n",
              "    </tr>\n",
              "    <tr>\n",
              "      <th>transmission_from_vin</th>\n",
              "      <td>0</td>\n",
              "    </tr>\n",
              "    <tr>\n",
              "      <th>fuel_type_from_vin</th>\n",
              "      <td>0</td>\n",
              "    </tr>\n",
              "    <tr>\n",
              "      <th>number_price_changes</th>\n",
              "      <td>0</td>\n",
              "    </tr>\n",
              "    <tr>\n",
              "      <th>price_history_delimited</th>\n",
              "      <td>0</td>\n",
              "    </tr>\n",
              "    <tr>\n",
              "      <th>distance_to_dealer</th>\n",
              "      <td>0</td>\n",
              "    </tr>\n",
              "    <tr>\n",
              "      <th>location_score</th>\n",
              "      <td>0</td>\n",
              "    </tr>\n",
              "    <tr>\n",
              "      <th>listing_dropoff_date</th>\n",
              "      <td>46984</td>\n",
              "    </tr>\n",
              "  </tbody>\n",
              "</table>\n",
              "</div><br><label><b>dtype:</b> int64</label>"
            ]
          },
          "metadata": {},
          "execution_count": 58
        }
      ]
    },
    {
      "cell_type": "code",
      "source": [],
      "metadata": {
        "id": "UioN5TH-NVHP"
      },
      "execution_count": null,
      "outputs": []
    }
  ]
}